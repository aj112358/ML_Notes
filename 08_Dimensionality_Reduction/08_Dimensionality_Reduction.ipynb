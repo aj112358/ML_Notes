{
 "cells": [
  {
   "cell_type": "markdown",
   "metadata": {},
   "source": [
    "# Ch 8 - Dimensionality Reduction"
   ]
  },
  {
   "cell_type": "markdown",
   "metadata": {},
   "source": [
    "This the the Python code for this chapter. See the associated notes for more details."
   ]
  },
  {
   "cell_type": "markdown",
   "metadata": {},
   "source": [
    "## Principal Component Analysis"
   ]
  },
  {
   "cell_type": "markdown",
   "metadata": {},
   "source": [
    "As a simple example, we can use NumPy to compute the principal components for us."
   ]
  },
  {
   "cell_type": "code",
   "execution_count": 1,
   "metadata": {},
   "outputs": [],
   "source": [
    "import numpy as np\n",
    "\n",
    "# Creating a toy data set\n",
    "\n",
    "np.random.seed(4)\n",
    "m = 60\n",
    "w1, w2 = 0.1, 0.3\n",
    "noise = 0.1\n",
    "\n",
    "angles = np.random.rand(m) * 3 * np.pi / 2 - 0.5\n",
    "X = np.empty((m, 3))\n",
    "X[:, 0] = np.cos(angles) + np.sin(angles)/2 + noise * np.random.randn(m) / 2\n",
    "X[:, 1] = np.sin(angles) * 0.7 + noise * np.random.randn(m) / 2\n",
    "X[:, 2] = X[:, 0] * w1 + X[:, 1] * w2 + noise * np.random.randn(m)"
   ]
  },
  {
   "cell_type": "markdown",
   "metadata": {},
   "source": [
    "PCA requires the data set to be centered about the origin, so we do this now manually. In SKL, the PCA class will do this for us automatically."
   ]
  },
  {
   "cell_type": "code",
   "execution_count": 2,
   "metadata": {},
   "outputs": [],
   "source": [
    "X_centered = X - X.mean(axis=0)"
   ]
  },
  {
   "cell_type": "code",
   "execution_count": 3,
   "metadata": {
    "scrolled": true
   },
   "outputs": [
    {
     "data": {
      "text/plain": [
       "array([[-1.03976771e+00, -7.60238460e-01, -3.32880482e-01],\n",
       "       [-3.17841939e-02,  3.90260570e-01, -3.64766659e-02],\n",
       "       [-9.77238797e-01, -6.73862060e-01, -3.20757101e-01],\n",
       "       [-9.44190485e-01,  7.70779228e-04, -4.97304144e-02],\n",
       "       [-7.87164831e-01, -5.10641487e-02,  1.19970744e-01],\n",
       "       [ 1.09409378e+00,  1.15762056e-01,  2.45551498e-01],\n",
       "       [-1.04665623e+00, -8.53165791e-01, -2.05241169e-01],\n",
       "       [ 6.49452398e-01, -4.82750342e-01, -7.94325731e-02],\n",
       "       [ 9.92128132e-01,  3.06140931e-01,  3.96278747e-01],\n",
       "       [ 5.25509785e-01,  4.67955007e-01,  1.62461684e-01],\n",
       "       [-1.01367188e+00, -2.00458976e-01, -1.93074561e-01],\n",
       "       [ 1.10841362e+00,  7.29745189e-02, -1.82449496e-03],\n",
       "       [-1.01744457e+00, -4.77653389e-01, -2.29165228e-01],\n",
       "       [-9.71704237e-01, -7.08910047e-01, -2.10833327e-01],\n",
       "       [ 1.07688965e+00, -3.86770525e-02,  2.63501050e-02],\n",
       "       [-3.70113351e-01,  2.44018985e-01, -7.21578839e-03],\n",
       "       [ 6.66958762e-01, -4.82702763e-01, -1.30819379e-01],\n",
       "       [ 6.58961570e-01,  4.94893306e-01,  1.74868964e-01],\n",
       "       [ 8.53335653e-01, -3.77076159e-01, -9.31775506e-02],\n",
       "       [-1.08496872e+00, -6.91462364e-01, -4.57289483e-01],\n",
       "       [ 4.99298994e-01,  4.56533302e-01,  3.18636773e-01],\n",
       "       [-9.68261478e-01, -8.24346725e-01, -5.47655403e-01],\n",
       "       [-9.95696248e-01, -2.01900467e-01, -2.59197914e-01],\n",
       "       [-1.12967405e+00, -5.28358225e-01, -2.43450657e-01],\n",
       "       [ 1.15080196e+00, -5.21430098e-02,  1.94243537e-01],\n",
       "       [ 8.89303784e-01, -3.70140054e-01, -4.93216487e-02],\n",
       "       [-3.10955736e-01,  3.54412625e-01,  4.05536550e-02],\n",
       "       [ 1.07840518e+00,  9.22705117e-04,  1.06715054e-01],\n",
       "       [-9.59883386e-01, -6.49908833e-02, -1.47966737e-01],\n",
       "       [ 6.37654256e-01,  5.25741745e-01,  3.02812268e-01],\n",
       "       [ 7.48942448e-02,  3.96869463e-01,  7.19124652e-02],\n",
       "       [-1.10509902e+00, -7.56186325e-01, -4.42257576e-01],\n",
       "       [ 5.97516448e-03,  3.96090230e-01,  6.58083742e-02],\n",
       "       [ 9.54398819e-01, -2.57659480e-01,  2.14189027e-02],\n",
       "       [ 9.48507065e-01, -5.36761335e-02,  1.95319276e-01],\n",
       "       [-9.33100547e-02,  3.60966465e-01,  2.52596756e-01],\n",
       "       [-7.16575427e-03,  4.37240303e-01,  8.41641583e-02],\n",
       "       [-4.29512278e-01,  1.82940809e-01, -1.40837271e-01],\n",
       "       [ 6.17560823e-01,  4.75517142e-01,  5.96746673e-02],\n",
       "       [-6.64187997e-01,  2.06463839e-01,  2.01702638e-01],\n",
       "       [ 7.08572753e-01,  5.46722769e-01,  1.88237198e-01],\n",
       "       [-4.74064792e-01,  3.20203835e-01,  8.80953633e-02],\n",
       "       [-1.00867810e+00, -1.85883567e-01,  2.87456755e-02],\n",
       "       [ 1.09532478e+00,  3.69732245e-02,  4.62628912e-02],\n",
       "       [ 7.60343211e-01,  4.33797210e-01,  1.80366155e-01],\n",
       "       [ 1.42297531e-01,  5.10258424e-01,  1.02897833e-01],\n",
       "       [-6.97784920e-01,  1.43560151e-01, -1.42651977e-01],\n",
       "       [ 1.09022918e+00,  2.09499568e-01,  2.45498412e-01],\n",
       "       [-1.37883404e-01,  4.28064152e-01,  2.14850953e-01],\n",
       "       [-4.78784699e-01,  2.23366474e-01, -1.74592301e-01],\n",
       "       [-1.18197222e+00, -6.00535225e-01, -2.06536653e-01],\n",
       "       [ 8.10873592e-01,  4.54797366e-01,  1.87579928e-01],\n",
       "       [-4.93470426e-01,  1.87065416e-01,  1.87852845e-02],\n",
       "       [ 1.12439206e+00,  1.09421302e-01,  1.58702567e-01],\n",
       "       [ 2.16331762e-01,  3.89579266e-01,  1.50315900e-03],\n",
       "       [ 1.08160954e+00,  2.33561034e-03,  7.14246161e-02],\n",
       "       [-1.03558753e+00, -6.58809150e-01, -4.06642750e-01],\n",
       "       [ 5.01126668e-01,  4.37983062e-01,  3.66682813e-01],\n",
       "       [-1.11982458e+00, -3.78394231e-01, -1.32658423e-02],\n",
       "       [ 5.62856986e-01,  4.10942417e-01,  1.81621833e-01]])"
      ]
     },
     "execution_count": 3,
     "metadata": {},
     "output_type": "execute_result"
    }
   ],
   "source": [
    "X_centered"
   ]
  },
  {
   "cell_type": "code",
   "execution_count": 4,
   "metadata": {
    "scrolled": true
   },
   "outputs": [
    {
     "data": {
      "text/plain": [
       "array([-1.03976771, -0.03178419, -0.9772388 , -0.94419049, -0.78716483,\n",
       "        1.09409378, -1.04665623,  0.6494524 ,  0.99212813,  0.52550978,\n",
       "       -1.01367188,  1.10841362, -1.01744457, -0.97170424,  1.07688965,\n",
       "       -0.37011335,  0.66695876,  0.65896157,  0.85333565, -1.08496872,\n",
       "        0.49929899, -0.96826148, -0.99569625, -1.12967405,  1.15080196,\n",
       "        0.88930378, -0.31095574,  1.07840518, -0.95988339,  0.63765426,\n",
       "        0.07489424, -1.10509902,  0.00597516,  0.95439882,  0.94850707,\n",
       "       -0.09331005, -0.00716575, -0.42951228,  0.61756082, -0.664188  ,\n",
       "        0.70857275, -0.47406479, -1.0086781 ,  1.09532478,  0.76034321,\n",
       "        0.14229753, -0.69778492,  1.09022918, -0.1378834 , -0.4787847 ,\n",
       "       -1.18197222,  0.81087359, -0.49347043,  1.12439206,  0.21633176,\n",
       "        1.08160954, -1.03558753,  0.50112667, -1.11982458,  0.56285699])"
      ]
     },
     "execution_count": 4,
     "metadata": {},
     "output_type": "execute_result"
    }
   ],
   "source": [
    "# Training instances for first feature\n",
    "\n",
    "X_centered[:,0]"
   ]
  },
  {
   "cell_type": "code",
   "execution_count": 5,
   "metadata": {
    "scrolled": true
   },
   "outputs": [
    {
     "name": "stdout",
     "output_type": "stream",
     "text": [
      "-5.551115123125783e-18\n",
      "-4.625929269271485e-18\n",
      "-1.850371707708594e-17\n"
     ]
    }
   ],
   "source": [
    "# Verifying that each feature column is indeed zero-centered (ie. mean is 0)\n",
    "\n",
    "for i in range(3):\n",
    "    print(np.mean(X_centered[:,i]))"
   ]
  },
  {
   "cell_type": "markdown",
   "metadata": {},
   "source": [
    "Now we use NumPy to compute the SVD for us:"
   ]
  },
  {
   "cell_type": "code",
   "execution_count": 6,
   "metadata": {},
   "outputs": [],
   "source": [
    "U, sigma, Vt = np.linalg.svd(X_centered)"
   ]
  },
  {
   "cell_type": "markdown",
   "metadata": {},
   "source": [
    "Finally, we can extract the principal components from the V matrix. Note that the output of an SVD will yield V transpose, so you must transpose it once more."
   ]
  },
  {
   "cell_type": "code",
   "execution_count": 7,
   "metadata": {},
   "outputs": [],
   "source": [
    "c1 = Vt.T[:,0]\n",
    "c2 = Vt.T[:,1]\n",
    "c3 = Vt.T[:,2]"
   ]
  },
  {
   "cell_type": "code",
   "execution_count": 8,
   "metadata": {},
   "outputs": [
    {
     "name": "stdout",
     "output_type": "stream",
     "text": [
      "First PC:  [0.93636116 0.29854881 0.18465208]\n",
      "Second PC:  [-0.34027485  0.90119108  0.2684542 ]\n",
      "Third PC:  [-0.08626012 -0.31420255  0.94542898]\n"
     ]
    }
   ],
   "source": [
    "print(\"First PC: \", c1)\n",
    "print(\"Second PC: \", c2)\n",
    "print(\"Third PC: \", c3)"
   ]
  },
  {
   "cell_type": "markdown",
   "metadata": {},
   "source": [
    "**Projecting Onto A Hyperplane**"
   ]
  },
  {
   "cell_type": "markdown",
   "metadata": {},
   "source": [
    "Once we have decided as to which principal components we wish to use, we can easily project our training set onto the defined hyperplane by computing the matrix product:\n",
    "\n",
    "$$ \\mathbf{X}_{d-proj} =  \\mathbf{XW}_d$$\n",
    "\n",
    "where $\\mathbf{X}$ is the matrix of training instances, and $\\mathbf{W}_d$ is the matrix whose columns are the first $d$ principal components defining the hyperplane."
   ]
  },
  {
   "cell_type": "code",
   "execution_count": 12,
   "metadata": {},
   "outputs": [],
   "source": [
    "d = 2 # Dimension of hyperplane\n",
    "\n",
    "W_2 = Vt.T[:, :d]\n",
    "X_2d_manual = X_centered.dot(W_2)"
   ]
  },
  {
   "cell_type": "code",
   "execution_count": 13,
   "metadata": {
    "scrolled": true
   },
   "outputs": [
    {
     "data": {
      "text/plain": [
       "array([[-1.26203346, -0.42067648],\n",
       "       [ 0.08001485,  0.35272239],\n",
       "       [-1.17545763, -0.36085729],\n",
       "       [-0.89305601,  0.30862856],\n",
       "       [-0.73016287,  0.25404049],\n",
       "       [ 1.10436914, -0.20204953],\n",
       "       [-1.27265808, -0.46781247],\n",
       "       [ 0.44933007, -0.67736663],\n",
       "       [ 1.09356195,  0.04467792],\n",
       "       [ 0.66177325,  0.28651264],\n",
       "       [-1.04466138,  0.11244353],\n",
       "       [ 1.05932502, -0.31189109],\n",
       "       [-1.13761426, -0.14576655],\n",
       "       [-1.16044117, -0.36481599],\n",
       "       [ 1.00167625, -0.39422008],\n",
       "       [-0.2750406 ,  0.34391089],\n",
       "       [ 0.45624787, -0.69707573],\n",
       "       [ 0.79706574,  0.26870969],\n",
       "       [ 0.66924929, -0.65520024],\n",
       "       [-1.30679728, -0.37671343],\n",
       "       [ 0.6626586 ,  0.32706423],\n",
       "       [-1.25387588, -0.56043928],\n",
       "       [-1.04046987,  0.08727672],\n",
       "       [-1.26047729, -0.1571074 ],\n",
       "       [ 1.09786649, -0.38643428],\n",
       "       [ 0.7130973 , -0.64941523],\n",
       "       [-0.17786909,  0.43609071],\n",
       "       [ 1.02975735, -0.33747452],\n",
       "       [-0.94552283,  0.22833268],\n",
       "       [ 0.80994916,  0.33810729],\n",
       "       [ 0.20189175,  0.3514758 ],\n",
       "       [-1.34219411, -0.42415687],\n",
       "       [ 0.13599883,  0.37258632],\n",
       "       [ 0.8206931 , -0.55120835],\n",
       "       [ 0.90818634, -0.31869127],\n",
       "       [ 0.06703671,  0.42486148],\n",
       "       [ 0.13936893,  0.41906961],\n",
       "       [-0.37356775,  0.27320849],\n",
       "       [ 0.7312441 ,  0.23441131],\n",
       "       [-0.5230355 ,  0.46621776],\n",
       "       [ 0.86146183,  0.30212526],\n",
       "       [-0.33203239,  0.47352674],\n",
       "       [-0.99467436,  0.18342807],\n",
       "       [ 1.04520043, -0.32697207],\n",
       "       [ 0.87477048,  0.18062856],\n",
       "       [ 0.30457923,  0.43904343],\n",
       "       [-0.63685997,  0.32851826],\n",
       "       [ 1.1287259 , -0.11627335],\n",
       "       [ 0.03836205,  0.49036349],\n",
       "       [-0.41386843,  0.31734423],\n",
       "       [-1.32417938, -0.1944472 ],\n",
       "       [ 0.92968677,  0.18429606],\n",
       "       [-0.40274964,  0.34154025],\n",
       "       [ 1.11480941, -0.24138847],\n",
       "       [ 0.31915065,  0.27787663],\n",
       "       [ 1.02666316, -0.34676546],\n",
       "       [-1.24145806, -0.35049349],\n",
       "       [ 0.66770361,  0.32262317],\n",
       "       [-1.16397896,  0.03648137],\n",
       "       [ 0.68326064,  0.22756871]])"
      ]
     },
     "execution_count": 13,
     "metadata": {},
     "output_type": "execute_result"
    }
   ],
   "source": [
    "X_2d_manual"
   ]
  },
  {
   "cell_type": "markdown",
   "metadata": {},
   "source": [
    "**Using SKL to Compute Principal Components**"
   ]
  },
  {
   "cell_type": "code",
   "execution_count": 11,
   "metadata": {},
   "outputs": [],
   "source": [
    "from sklearn.decomposition import PCA\n",
    "\n",
    "pca = PCA(n_components=2)\n",
    "X_2d = pca.fit_transform(X) # NOTE: We don't have to center the data ourselves!"
   ]
  },
  {
   "cell_type": "markdown",
   "metadata": {},
   "source": [
    "We can compare our manually computed principal components with these SKL ones. We see they are exactly the same:"
   ]
  },
  {
   "cell_type": "code",
   "execution_count": 16,
   "metadata": {
    "scrolled": true
   },
   "outputs": [
    {
     "data": {
      "text/plain": [
       "array([[-1.26203346, -0.42067648],\n",
       "       [ 0.08001485,  0.35272239],\n",
       "       [-1.17545763, -0.36085729],\n",
       "       [-0.89305601,  0.30862856],\n",
       "       [-0.73016287,  0.25404049],\n",
       "       [ 1.10436914, -0.20204953],\n",
       "       [-1.27265808, -0.46781247],\n",
       "       [ 0.44933007, -0.67736663],\n",
       "       [ 1.09356195,  0.04467792],\n",
       "       [ 0.66177325,  0.28651264]])"
      ]
     },
     "execution_count": 16,
     "metadata": {},
     "output_type": "execute_result"
    }
   ],
   "source": [
    "X_2d_manual[:10]"
   ]
  },
  {
   "cell_type": "code",
   "execution_count": 17,
   "metadata": {
    "scrolled": true
   },
   "outputs": [
    {
     "data": {
      "text/plain": [
       "array([[ 1.26203346,  0.42067648],\n",
       "       [-0.08001485, -0.35272239],\n",
       "       [ 1.17545763,  0.36085729],\n",
       "       [ 0.89305601, -0.30862856],\n",
       "       [ 0.73016287, -0.25404049],\n",
       "       [-1.10436914,  0.20204953],\n",
       "       [ 1.27265808,  0.46781247],\n",
       "       [-0.44933007,  0.67736663],\n",
       "       [-1.09356195, -0.04467792],\n",
       "       [-0.66177325, -0.28651264]])"
      ]
     },
     "execution_count": 17,
     "metadata": {},
     "output_type": "execute_result"
    }
   ],
   "source": [
    "X_2d[:10]"
   ]
  },
  {
   "cell_type": "markdown",
   "metadata": {},
   "source": [
    "The principal components are shown below, as well as those we computed manually.\n",
    "\n",
    "**Note:** We see that the manually computed principal components point in the opposite direction as the ones computed by SKL, but since the values are the same, they define the same hyperplane."
   ]
  },
  {
   "cell_type": "code",
   "execution_count": 24,
   "metadata": {},
   "outputs": [
    {
     "data": {
      "text/plain": [
       "array([[-0.93636116,  0.34027485],\n",
       "       [-0.29854881, -0.90119108],\n",
       "       [-0.18465208, -0.2684542 ]])"
      ]
     },
     "execution_count": 24,
     "metadata": {},
     "output_type": "execute_result"
    }
   ],
   "source": [
    "pca.components_.T"
   ]
  },
  {
   "cell_type": "code",
   "execution_count": 25,
   "metadata": {},
   "outputs": [
    {
     "data": {
      "text/plain": [
       "array([0.93636116, 0.29854881, 0.18465208])"
      ]
     },
     "execution_count": 25,
     "metadata": {},
     "output_type": "execute_result"
    }
   ],
   "source": [
    "Vt.T[:,0]"
   ]
  },
  {
   "cell_type": "code",
   "execution_count": 26,
   "metadata": {},
   "outputs": [
    {
     "data": {
      "text/plain": [
       "array([-0.34027485,  0.90119108,  0.2684542 ])"
      ]
     },
     "execution_count": 26,
     "metadata": {},
     "output_type": "execute_result"
    }
   ],
   "source": [
    "Vt.T[:,1]"
   ]
  },
  {
   "cell_type": "markdown",
   "metadata": {},
   "source": [
    "**Explained Variance Ratio**"
   ]
  },
  {
   "cell_type": "code",
   "execution_count": 27,
   "metadata": {},
   "outputs": [
    {
     "data": {
      "text/plain": [
       "array([0.84248607, 0.14631839])"
      ]
     },
     "execution_count": 27,
     "metadata": {},
     "output_type": "execute_result"
    }
   ],
   "source": [
    "pca.explained_variance_ratio_"
   ]
  },
  {
   "cell_type": "markdown",
   "metadata": {},
   "source": [
    "This means that ~84.2% of the variance lies on the first principal component, and ~14.6% lies on the second."
   ]
  },
  {
   "cell_type": "code",
   "execution_count": 29,
   "metadata": {},
   "outputs": [
    {
     "data": {
      "text/plain": [
       "0.011195535570688975"
      ]
     },
     "execution_count": 29,
     "metadata": {},
     "output_type": "execute_result"
    }
   ],
   "source": [
    "1-pca.explained_variance_ratio_.sum()"
   ]
  },
  {
   "cell_type": "markdown",
   "metadata": {},
   "source": [
    "Hence, there is ~1.1196% of the variance from the original data set that is unaccounted for after projection."
   ]
  },
  {
   "cell_type": "markdown",
   "metadata": {},
   "source": [
    "**Selecting the Hyperplane Dimension**"
   ]
  },
  {
   "cell_type": "code",
   "execution_count": 30,
   "metadata": {},
   "outputs": [],
   "source": [
    "desired_variance = 0.95\n",
    "\n",
    "pca = PCA(n_components=desired_variance)\n",
    "X_reduced = pca.fit_transform(X)"
   ]
  },
  {
   "cell_type": "code",
   "execution_count": 32,
   "metadata": {},
   "outputs": [
    {
     "data": {
      "text/plain": [
       "array([[-0.93636116,  0.34027485],\n",
       "       [-0.29854881, -0.90119108],\n",
       "       [-0.18465208, -0.2684542 ]])"
      ]
     },
     "execution_count": 32,
     "metadata": {},
     "output_type": "execute_result"
    }
   ],
   "source": [
    "pca.components_.T"
   ]
  },
  {
   "cell_type": "markdown",
   "metadata": {},
   "source": [
    "As expected, we get the same hyperplane dimension of 2."
   ]
  },
  {
   "cell_type": "markdown",
   "metadata": {},
   "source": [
    "**Incremental PCA**"
   ]
  },
  {
   "cell_type": "code",
   "execution_count": 35,
   "metadata": {},
   "outputs": [],
   "source": [
    "from sklearn.datasets import fetch_openml\n",
    "\n",
    "mnist = fetch_openml('mnist_784', version=1)\n",
    "mnist.target = mnist.target.astype(np.uint8)"
   ]
  },
  {
   "cell_type": "code",
   "execution_count": 41,
   "metadata": {},
   "outputs": [
    {
     "data": {
      "text/plain": [
       "(70000, 784)"
      ]
     },
     "execution_count": 41,
     "metadata": {},
     "output_type": "execute_result"
    }
   ],
   "source": [
    "from sklearn.model_selection import train_test_split\n",
    "\n",
    "X = mnist[\"data\"]\n",
    "y = mnist[\"target\"]\n",
    "\n",
    "X_train, X_test, y_train, y_test = train_test_split(X, y)\n",
    "\n",
    "mnist[\"data\"].shape"
   ]
  },
  {
   "cell_type": "markdown",
   "metadata": {},
   "source": [
    "With the MNIST data loaded and split, we now perform PCA incrementally by splitting the entire training data set into 100 mini-batches.\n",
    "\n",
    "**Note:** We have to use the 'partial_fit()' method when dealing with mini-batches! And then use the 'transform()' method to output the final reduced data set."
   ]
  },
  {
   "cell_type": "code",
   "execution_count": 39,
   "metadata": {},
   "outputs": [
    {
     "name": "stdout",
     "output_type": "stream",
     "text": [
      "...................................................................................................."
     ]
    }
   ],
   "source": [
    "from sklearn.decomposition import IncrementalPCA\n",
    "\n",
    "num_batches = 100\n",
    "pca_incremental = IncrementalPCA(n_components=154)\n",
    "\n",
    "for X_batch in np.array_split(X_train, num_batches):\n",
    "    print(\".\", end=\"\")     # Each . represents a completed batch\n",
    "    pca_incremental.partial_fit(X_batch)\n",
    "\n",
    "X_reduced = pca_incremental.transform(X_train)"
   ]
  },
  {
   "cell_type": "code",
   "execution_count": 40,
   "metadata": {},
   "outputs": [
    {
     "data": {
      "text/plain": [
       "(52500, 154)"
      ]
     },
     "execution_count": 40,
     "metadata": {},
     "output_type": "execute_result"
    }
   ],
   "source": [
    "X_reduced.shape"
   ]
  },
  {
   "cell_type": "markdown",
   "metadata": {},
   "source": [
    "Indeed, we were able to reduce the dimension from 784 to only 154!"
   ]
  },
  {
   "cell_type": "markdown",
   "metadata": {},
   "source": [
    "**Using NumPy's 'memmap' Class for Incremental PCA**"
   ]
  },
  {
   "cell_type": "markdown",
   "metadata": {},
   "source": [
    "NumPy's 'memmap' class allows us to manipulate a large array stored on disk as a binary file. We first create this binary file and store our MNIST data within it:"
   ]
  },
  {
   "cell_type": "code",
   "execution_count": 42,
   "metadata": {},
   "outputs": [],
   "source": [
    "binary_filename = \"my_mnist.data\"\n",
    "m, n = X_train.shape\n",
    "\n",
    "X_mm = np.memmap(filename = binary_filename, dtype='float32', mode='write', shape=(m, n))\n",
    "X_mm[:] = X_train"
   ]
  },
  {
   "cell_type": "markdown",
   "metadata": {},
   "source": [
    "To ensure the binary file is indeed saved to disk, we must actually delete the memmap() object. Doing this triggers the objects 'Python finalizer' (???):"
   ]
  },
  {
   "cell_type": "code",
   "execution_count": 43,
   "metadata": {},
   "outputs": [],
   "source": [
    "del X_mm"
   ]
  },
  {
   "cell_type": "markdown",
   "metadata": {},
   "source": [
    "Now, we are ready to perform our IPCA by reading data in mini-batches from the binary file:"
   ]
  },
  {
   "cell_type": "code",
   "execution_count": 46,
   "metadata": {},
   "outputs": [
    {
     "data": {
      "text/plain": [
       "IncrementalPCA(batch_size=525, n_components=154)"
      ]
     },
     "execution_count": 46,
     "metadata": {},
     "output_type": "execute_result"
    }
   ],
   "source": [
    "X_mm = np.memmap(filename = binary_filename, dtype=\"float32\", mode=\"readonly\", shape=(m, n))\n",
    "\n",
    "batch_size = m // num_batches\n",
    "\n",
    "inc_pca = IncrementalPCA(n_components=154, batch_size=batch_size)\n",
    "inc_pca.fit(X_mm) # Don't need to use 'partial_fit()'!!"
   ]
  },
  {
   "cell_type": "markdown",
   "metadata": {},
   "source": [
    "## Kernal PCA"
   ]
  },
  {
   "cell_type": "code",
   "execution_count": null,
   "metadata": {},
   "outputs": [],
   "source": []
  },
  {
   "cell_type": "code",
   "execution_count": null,
   "metadata": {},
   "outputs": [],
   "source": []
  },
  {
   "cell_type": "code",
   "execution_count": null,
   "metadata": {},
   "outputs": [],
   "source": []
  },
  {
   "cell_type": "code",
   "execution_count": null,
   "metadata": {},
   "outputs": [],
   "source": []
  },
  {
   "cell_type": "code",
   "execution_count": null,
   "metadata": {},
   "outputs": [],
   "source": []
  },
  {
   "cell_type": "code",
   "execution_count": null,
   "metadata": {},
   "outputs": [],
   "source": []
  },
  {
   "cell_type": "code",
   "execution_count": null,
   "metadata": {},
   "outputs": [],
   "source": []
  },
  {
   "cell_type": "code",
   "execution_count": null,
   "metadata": {},
   "outputs": [],
   "source": []
  },
  {
   "cell_type": "code",
   "execution_count": null,
   "metadata": {},
   "outputs": [],
   "source": []
  },
  {
   "cell_type": "code",
   "execution_count": null,
   "metadata": {},
   "outputs": [],
   "source": []
  },
  {
   "cell_type": "code",
   "execution_count": null,
   "metadata": {},
   "outputs": [],
   "source": []
  },
  {
   "cell_type": "code",
   "execution_count": null,
   "metadata": {},
   "outputs": [],
   "source": []
  },
  {
   "cell_type": "code",
   "execution_count": null,
   "metadata": {},
   "outputs": [],
   "source": []
  },
  {
   "cell_type": "code",
   "execution_count": null,
   "metadata": {},
   "outputs": [],
   "source": []
  },
  {
   "cell_type": "code",
   "execution_count": null,
   "metadata": {},
   "outputs": [],
   "source": []
  },
  {
   "cell_type": "code",
   "execution_count": null,
   "metadata": {},
   "outputs": [],
   "source": []
  },
  {
   "cell_type": "code",
   "execution_count": null,
   "metadata": {},
   "outputs": [],
   "source": []
  },
  {
   "cell_type": "code",
   "execution_count": null,
   "metadata": {},
   "outputs": [],
   "source": []
  },
  {
   "cell_type": "code",
   "execution_count": null,
   "metadata": {},
   "outputs": [],
   "source": []
  },
  {
   "cell_type": "code",
   "execution_count": null,
   "metadata": {},
   "outputs": [],
   "source": []
  }
 ],
 "metadata": {
  "kernelspec": {
   "display_name": "Python 3",
   "language": "python",
   "name": "python3"
  },
  "language_info": {
   "codemirror_mode": {
    "name": "ipython",
    "version": 3
   },
   "file_extension": ".py",
   "mimetype": "text/x-python",
   "name": "python",
   "nbconvert_exporter": "python",
   "pygments_lexer": "ipython3",
   "version": "3.8.3"
  }
 },
 "nbformat": 4,
 "nbformat_minor": 4
}
