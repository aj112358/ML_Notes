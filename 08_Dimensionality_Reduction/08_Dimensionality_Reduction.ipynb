{
 "cells": [
  {
   "cell_type": "markdown",
   "metadata": {},
   "source": [
    "# Ch 8 - Dimensionality Reduction"
   ]
  },
  {
   "cell_type": "markdown",
   "metadata": {},
   "source": [
    "This the the Python code for this chapter. See the associated notes for more details."
   ]
  },
  {
   "cell_type": "markdown",
   "metadata": {},
   "source": [
    "## Principal Component Analysis"
   ]
  },
  {
   "cell_type": "markdown",
   "metadata": {},
   "source": [
    "As a simple example, we can use NumPy to compute the principal components for us."
   ]
  },
  {
   "cell_type": "code",
   "execution_count": 1,
   "metadata": {},
   "outputs": [],
   "source": [
    "import numpy as np\n",
    "\n",
    "# Creating a toy data set\n",
    "\n",
    "np.random.seed(4)\n",
    "m = 60\n",
    "w1, w2 = 0.1, 0.3\n",
    "noise = 0.1\n",
    "\n",
    "angles = np.random.rand(m) * 3 * np.pi / 2 - 0.5\n",
    "X = np.empty((m, 3))\n",
    "X[:, 0] = np.cos(angles) + np.sin(angles)/2 + noise * np.random.randn(m) / 2\n",
    "X[:, 1] = np.sin(angles) * 0.7 + noise * np.random.randn(m) / 2\n",
    "X[:, 2] = X[:, 0] * w1 + X[:, 1] * w2 + noise * np.random.randn(m)"
   ]
  },
  {
   "cell_type": "markdown",
   "metadata": {},
   "source": [
    "PCA requires the data set to be centered about the origin, so we do this now manually. In SKL, the PCA class will do this for us automatically."
   ]
  },
  {
   "cell_type": "code",
   "execution_count": 9,
   "metadata": {},
   "outputs": [],
   "source": [
    "X_centered = X - X.mean(axis=0)"
   ]
  },
  {
   "cell_type": "code",
   "execution_count": 22,
   "metadata": {
    "scrolled": true
   },
   "outputs": [
    {
     "data": {
      "text/plain": [
       "array([[-1.03976771e+00, -7.60238460e-01, -3.32880482e-01],\n",
       "       [-3.17841939e-02,  3.90260570e-01, -3.64766659e-02],\n",
       "       [-9.77238797e-01, -6.73862060e-01, -3.20757101e-01],\n",
       "       [-9.44190485e-01,  7.70779228e-04, -4.97304144e-02],\n",
       "       [-7.87164831e-01, -5.10641487e-02,  1.19970744e-01],\n",
       "       [ 1.09409378e+00,  1.15762056e-01,  2.45551498e-01],\n",
       "       [-1.04665623e+00, -8.53165791e-01, -2.05241169e-01],\n",
       "       [ 6.49452398e-01, -4.82750342e-01, -7.94325731e-02],\n",
       "       [ 9.92128132e-01,  3.06140931e-01,  3.96278747e-01],\n",
       "       [ 5.25509785e-01,  4.67955007e-01,  1.62461684e-01],\n",
       "       [-1.01367188e+00, -2.00458976e-01, -1.93074561e-01],\n",
       "       [ 1.10841362e+00,  7.29745189e-02, -1.82449496e-03],\n",
       "       [-1.01744457e+00, -4.77653389e-01, -2.29165228e-01],\n",
       "       [-9.71704237e-01, -7.08910047e-01, -2.10833327e-01],\n",
       "       [ 1.07688965e+00, -3.86770525e-02,  2.63501050e-02],\n",
       "       [-3.70113351e-01,  2.44018985e-01, -7.21578839e-03],\n",
       "       [ 6.66958762e-01, -4.82702763e-01, -1.30819379e-01],\n",
       "       [ 6.58961570e-01,  4.94893306e-01,  1.74868964e-01],\n",
       "       [ 8.53335653e-01, -3.77076159e-01, -9.31775506e-02],\n",
       "       [-1.08496872e+00, -6.91462364e-01, -4.57289483e-01],\n",
       "       [ 4.99298994e-01,  4.56533302e-01,  3.18636773e-01],\n",
       "       [-9.68261478e-01, -8.24346725e-01, -5.47655403e-01],\n",
       "       [-9.95696248e-01, -2.01900467e-01, -2.59197914e-01],\n",
       "       [-1.12967405e+00, -5.28358225e-01, -2.43450657e-01],\n",
       "       [ 1.15080196e+00, -5.21430098e-02,  1.94243537e-01],\n",
       "       [ 8.89303784e-01, -3.70140054e-01, -4.93216487e-02],\n",
       "       [-3.10955736e-01,  3.54412625e-01,  4.05536550e-02],\n",
       "       [ 1.07840518e+00,  9.22705117e-04,  1.06715054e-01],\n",
       "       [-9.59883386e-01, -6.49908833e-02, -1.47966737e-01],\n",
       "       [ 6.37654256e-01,  5.25741745e-01,  3.02812268e-01],\n",
       "       [ 7.48942448e-02,  3.96869463e-01,  7.19124652e-02],\n",
       "       [-1.10509902e+00, -7.56186325e-01, -4.42257576e-01],\n",
       "       [ 5.97516448e-03,  3.96090230e-01,  6.58083742e-02],\n",
       "       [ 9.54398819e-01, -2.57659480e-01,  2.14189027e-02],\n",
       "       [ 9.48507065e-01, -5.36761335e-02,  1.95319276e-01],\n",
       "       [-9.33100547e-02,  3.60966465e-01,  2.52596756e-01],\n",
       "       [-7.16575427e-03,  4.37240303e-01,  8.41641583e-02],\n",
       "       [-4.29512278e-01,  1.82940809e-01, -1.40837271e-01],\n",
       "       [ 6.17560823e-01,  4.75517142e-01,  5.96746673e-02],\n",
       "       [-6.64187997e-01,  2.06463839e-01,  2.01702638e-01],\n",
       "       [ 7.08572753e-01,  5.46722769e-01,  1.88237198e-01],\n",
       "       [-4.74064792e-01,  3.20203835e-01,  8.80953633e-02],\n",
       "       [-1.00867810e+00, -1.85883567e-01,  2.87456755e-02],\n",
       "       [ 1.09532478e+00,  3.69732245e-02,  4.62628912e-02],\n",
       "       [ 7.60343211e-01,  4.33797210e-01,  1.80366155e-01],\n",
       "       [ 1.42297531e-01,  5.10258424e-01,  1.02897833e-01],\n",
       "       [-6.97784920e-01,  1.43560151e-01, -1.42651977e-01],\n",
       "       [ 1.09022918e+00,  2.09499568e-01,  2.45498412e-01],\n",
       "       [-1.37883404e-01,  4.28064152e-01,  2.14850953e-01],\n",
       "       [-4.78784699e-01,  2.23366474e-01, -1.74592301e-01],\n",
       "       [-1.18197222e+00, -6.00535225e-01, -2.06536653e-01],\n",
       "       [ 8.10873592e-01,  4.54797366e-01,  1.87579928e-01],\n",
       "       [-4.93470426e-01,  1.87065416e-01,  1.87852845e-02],\n",
       "       [ 1.12439206e+00,  1.09421302e-01,  1.58702567e-01],\n",
       "       [ 2.16331762e-01,  3.89579266e-01,  1.50315900e-03],\n",
       "       [ 1.08160954e+00,  2.33561034e-03,  7.14246161e-02],\n",
       "       [-1.03558753e+00, -6.58809150e-01, -4.06642750e-01],\n",
       "       [ 5.01126668e-01,  4.37983062e-01,  3.66682813e-01],\n",
       "       [-1.11982458e+00, -3.78394231e-01, -1.32658423e-02],\n",
       "       [ 5.62856986e-01,  4.10942417e-01,  1.81621833e-01]])"
      ]
     },
     "execution_count": 22,
     "metadata": {},
     "output_type": "execute_result"
    }
   ],
   "source": [
    "X_centered"
   ]
  },
  {
   "cell_type": "code",
   "execution_count": 18,
   "metadata": {
    "scrolled": true
   },
   "outputs": [
    {
     "data": {
      "text/plain": [
       "array([-1.03976771, -0.03178419, -0.9772388 , -0.94419049, -0.78716483,\n",
       "        1.09409378, -1.04665623,  0.6494524 ,  0.99212813,  0.52550978,\n",
       "       -1.01367188,  1.10841362, -1.01744457, -0.97170424,  1.07688965,\n",
       "       -0.37011335,  0.66695876,  0.65896157,  0.85333565, -1.08496872,\n",
       "        0.49929899, -0.96826148, -0.99569625, -1.12967405,  1.15080196,\n",
       "        0.88930378, -0.31095574,  1.07840518, -0.95988339,  0.63765426,\n",
       "        0.07489424, -1.10509902,  0.00597516,  0.95439882,  0.94850707,\n",
       "       -0.09331005, -0.00716575, -0.42951228,  0.61756082, -0.664188  ,\n",
       "        0.70857275, -0.47406479, -1.0086781 ,  1.09532478,  0.76034321,\n",
       "        0.14229753, -0.69778492,  1.09022918, -0.1378834 , -0.4787847 ,\n",
       "       -1.18197222,  0.81087359, -0.49347043,  1.12439206,  0.21633176,\n",
       "        1.08160954, -1.03558753,  0.50112667, -1.11982458,  0.56285699])"
      ]
     },
     "execution_count": 18,
     "metadata": {},
     "output_type": "execute_result"
    }
   ],
   "source": [
    "# Training instances for first feature\n",
    "\n",
    "X_centered[:,0]"
   ]
  },
  {
   "cell_type": "code",
   "execution_count": 29,
   "metadata": {
    "scrolled": true
   },
   "outputs": [
    {
     "name": "stdout",
     "output_type": "stream",
     "text": [
      "-5.551115123125783e-18\n",
      "-4.625929269271485e-18\n",
      "-1.850371707708594e-17\n"
     ]
    }
   ],
   "source": [
    "# Verifying that each feature column is indeed zero-centered (ie. mean is 0)\n",
    "\n",
    "for i in range(3):\n",
    "    print(np.mean(X_centered[:,i]))"
   ]
  },
  {
   "cell_type": "markdown",
   "metadata": {},
   "source": [
    "Now we use NumPy to compute the SVD for us:"
   ]
  },
  {
   "cell_type": "code",
   "execution_count": 10,
   "metadata": {},
   "outputs": [],
   "source": [
    "U, sigma, Vt = np.linalg.svd(X_centered)"
   ]
  },
  {
   "cell_type": "markdown",
   "metadata": {},
   "source": [
    "Finally, we can extract the principal components from the V matrix. Note that the output of an SVD will yield V transpose, so you must transpose it once more."
   ]
  },
  {
   "cell_type": "code",
   "execution_count": 25,
   "metadata": {},
   "outputs": [],
   "source": [
    "c1 = Vt.T[:,0]\n",
    "c2 = Vt.T[:,1]\n",
    "c3 = Vt.T[:,2]"
   ]
  },
  {
   "cell_type": "code",
   "execution_count": 26,
   "metadata": {},
   "outputs": [
    {
     "name": "stdout",
     "output_type": "stream",
     "text": [
      "First PC:  [0.93636116 0.29854881 0.18465208]\n",
      "Second PC:  [-0.34027485  0.90119108  0.2684542 ]\n",
      "Third PC:  [-0.08626012 -0.31420255  0.94542898]\n"
     ]
    }
   ],
   "source": [
    "print(\"First PC: \", c1)\n",
    "print(\"Second PC: \", c2)\n",
    "print(\"Third PC: \", c3)"
   ]
  },
  {
   "cell_type": "code",
   "execution_count": null,
   "metadata": {},
   "outputs": [],
   "source": []
  },
  {
   "cell_type": "code",
   "execution_count": null,
   "metadata": {},
   "outputs": [],
   "source": []
  },
  {
   "cell_type": "code",
   "execution_count": null,
   "metadata": {},
   "outputs": [],
   "source": []
  },
  {
   "cell_type": "code",
   "execution_count": null,
   "metadata": {},
   "outputs": [],
   "source": []
  },
  {
   "cell_type": "code",
   "execution_count": null,
   "metadata": {},
   "outputs": [],
   "source": []
  },
  {
   "cell_type": "code",
   "execution_count": null,
   "metadata": {},
   "outputs": [],
   "source": []
  },
  {
   "cell_type": "code",
   "execution_count": null,
   "metadata": {},
   "outputs": [],
   "source": []
  },
  {
   "cell_type": "code",
   "execution_count": null,
   "metadata": {},
   "outputs": [],
   "source": []
  },
  {
   "cell_type": "code",
   "execution_count": null,
   "metadata": {},
   "outputs": [],
   "source": []
  },
  {
   "cell_type": "code",
   "execution_count": null,
   "metadata": {},
   "outputs": [],
   "source": []
  },
  {
   "cell_type": "code",
   "execution_count": null,
   "metadata": {},
   "outputs": [],
   "source": []
  },
  {
   "cell_type": "code",
   "execution_count": null,
   "metadata": {},
   "outputs": [],
   "source": []
  },
  {
   "cell_type": "code",
   "execution_count": null,
   "metadata": {},
   "outputs": [],
   "source": []
  },
  {
   "cell_type": "code",
   "execution_count": null,
   "metadata": {},
   "outputs": [],
   "source": []
  },
  {
   "cell_type": "code",
   "execution_count": null,
   "metadata": {},
   "outputs": [],
   "source": []
  },
  {
   "cell_type": "code",
   "execution_count": null,
   "metadata": {},
   "outputs": [],
   "source": []
  },
  {
   "cell_type": "code",
   "execution_count": null,
   "metadata": {},
   "outputs": [],
   "source": []
  },
  {
   "cell_type": "code",
   "execution_count": null,
   "metadata": {},
   "outputs": [],
   "source": []
  },
  {
   "cell_type": "code",
   "execution_count": null,
   "metadata": {},
   "outputs": [],
   "source": []
  },
  {
   "cell_type": "code",
   "execution_count": null,
   "metadata": {},
   "outputs": [],
   "source": []
  },
  {
   "cell_type": "code",
   "execution_count": null,
   "metadata": {},
   "outputs": [],
   "source": []
  },
  {
   "cell_type": "code",
   "execution_count": null,
   "metadata": {},
   "outputs": [],
   "source": []
  },
  {
   "cell_type": "code",
   "execution_count": null,
   "metadata": {},
   "outputs": [],
   "source": []
  },
  {
   "cell_type": "code",
   "execution_count": null,
   "metadata": {},
   "outputs": [],
   "source": []
  },
  {
   "cell_type": "code",
   "execution_count": null,
   "metadata": {},
   "outputs": [],
   "source": []
  },
  {
   "cell_type": "code",
   "execution_count": null,
   "metadata": {},
   "outputs": [],
   "source": []
  },
  {
   "cell_type": "code",
   "execution_count": null,
   "metadata": {},
   "outputs": [],
   "source": []
  },
  {
   "cell_type": "code",
   "execution_count": null,
   "metadata": {},
   "outputs": [],
   "source": []
  },
  {
   "cell_type": "code",
   "execution_count": null,
   "metadata": {},
   "outputs": [],
   "source": []
  },
  {
   "cell_type": "code",
   "execution_count": null,
   "metadata": {},
   "outputs": [],
   "source": []
  },
  {
   "cell_type": "code",
   "execution_count": null,
   "metadata": {},
   "outputs": [],
   "source": []
  },
  {
   "cell_type": "code",
   "execution_count": null,
   "metadata": {},
   "outputs": [],
   "source": []
  },
  {
   "cell_type": "code",
   "execution_count": null,
   "metadata": {},
   "outputs": [],
   "source": []
  },
  {
   "cell_type": "code",
   "execution_count": null,
   "metadata": {},
   "outputs": [],
   "source": []
  },
  {
   "cell_type": "code",
   "execution_count": null,
   "metadata": {},
   "outputs": [],
   "source": []
  },
  {
   "cell_type": "code",
   "execution_count": null,
   "metadata": {},
   "outputs": [],
   "source": []
  },
  {
   "cell_type": "code",
   "execution_count": null,
   "metadata": {},
   "outputs": [],
   "source": []
  },
  {
   "cell_type": "code",
   "execution_count": null,
   "metadata": {},
   "outputs": [],
   "source": []
  },
  {
   "cell_type": "code",
   "execution_count": null,
   "metadata": {},
   "outputs": [],
   "source": []
  },
  {
   "cell_type": "code",
   "execution_count": null,
   "metadata": {},
   "outputs": [],
   "source": []
  },
  {
   "cell_type": "code",
   "execution_count": null,
   "metadata": {},
   "outputs": [],
   "source": []
  },
  {
   "cell_type": "code",
   "execution_count": null,
   "metadata": {},
   "outputs": [],
   "source": []
  },
  {
   "cell_type": "code",
   "execution_count": null,
   "metadata": {},
   "outputs": [],
   "source": []
  },
  {
   "cell_type": "code",
   "execution_count": null,
   "metadata": {},
   "outputs": [],
   "source": []
  },
  {
   "cell_type": "code",
   "execution_count": null,
   "metadata": {},
   "outputs": [],
   "source": []
  },
  {
   "cell_type": "code",
   "execution_count": null,
   "metadata": {},
   "outputs": [],
   "source": []
  },
  {
   "cell_type": "code",
   "execution_count": null,
   "metadata": {},
   "outputs": [],
   "source": []
  },
  {
   "cell_type": "code",
   "execution_count": null,
   "metadata": {},
   "outputs": [],
   "source": []
  },
  {
   "cell_type": "code",
   "execution_count": null,
   "metadata": {},
   "outputs": [],
   "source": []
  },
  {
   "cell_type": "code",
   "execution_count": null,
   "metadata": {},
   "outputs": [],
   "source": []
  },
  {
   "cell_type": "code",
   "execution_count": null,
   "metadata": {},
   "outputs": [],
   "source": []
  },
  {
   "cell_type": "code",
   "execution_count": null,
   "metadata": {},
   "outputs": [],
   "source": []
  },
  {
   "cell_type": "code",
   "execution_count": null,
   "metadata": {},
   "outputs": [],
   "source": []
  },
  {
   "cell_type": "code",
   "execution_count": null,
   "metadata": {},
   "outputs": [],
   "source": []
  },
  {
   "cell_type": "code",
   "execution_count": null,
   "metadata": {},
   "outputs": [],
   "source": []
  },
  {
   "cell_type": "code",
   "execution_count": null,
   "metadata": {},
   "outputs": [],
   "source": []
  }
 ],
 "metadata": {
  "kernelspec": {
   "display_name": "Python 3",
   "language": "python",
   "name": "python3"
  },
  "language_info": {
   "codemirror_mode": {
    "name": "ipython",
    "version": 3
   },
   "file_extension": ".py",
   "mimetype": "text/x-python",
   "name": "python",
   "nbconvert_exporter": "python",
   "pygments_lexer": "ipython3",
   "version": "3.8.3"
  }
 },
 "nbformat": 4,
 "nbformat_minor": 4
}
