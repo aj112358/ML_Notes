{
 "cells": [
  {
   "cell_type": "markdown",
   "metadata": {},
   "source": [
    "# Ch 7 - Ensemble Learning and Random Forests"
   ]
  },
  {
   "cell_type": "markdown",
   "metadata": {},
   "source": [
    "This JN contains the code for Ch7. See the corresponding notes for more details."
   ]
  },
  {
   "cell_type": "markdown",
   "metadata": {},
   "source": [
    "## Hard Voting Classifier"
   ]
  },
  {
   "cell_type": "markdown",
   "metadata": {},
   "source": [
    "Here, we will illustrate how to make a basic ensemble ML algorithm that implements the \"hard voting\" strategy (ie. majority vote)."
   ]
  },
  {
   "cell_type": "code",
   "execution_count": 1,
   "metadata": {},
   "outputs": [],
   "source": [
    "from sklearn.model_selection import train_test_split\n",
    "from sklearn.datasets import make_moons\n",
    "\n",
    "X, y = make_moons(n_samples=500, noise=0.30, random_state=42)\n",
    "X_train, X_test, y_train, y_test = train_test_split(X, y, random_state=42)"
   ]
  },
  {
   "cell_type": "code",
   "execution_count": 2,
   "metadata": {},
   "outputs": [],
   "source": [
    "from sklearn.ensemble import RandomForestClassifier, VotingClassifier\n",
    "from sklearn.linear_model import LogisticRegression\n",
    "from sklearn.svm import SVC"
   ]
  },
  {
   "cell_type": "code",
   "execution_count": 3,
   "metadata": {},
   "outputs": [],
   "source": [
    "log_classifier = LogisticRegression(random_state=42)\n",
    "forest_classifier = RandomForestClassifier(random_state=42)\n",
    "svm_classifier = SVC(random_state=42)"
   ]
  },
  {
   "cell_type": "code",
   "execution_count": 4,
   "metadata": {},
   "outputs": [],
   "source": [
    "voting_classifier = VotingClassifier(\n",
    "    estimators = [(\"lr\", log_classifier), (\"rf\", forest_classifier), (\"svc\", svm_classifier)],\n",
    "    voting = \"hard\"\n",
    ")"
   ]
  },
  {
   "cell_type": "code",
   "execution_count": 5,
   "metadata": {},
   "outputs": [
    {
     "data": {
      "text/plain": [
       "VotingClassifier(estimators=[('lr', LogisticRegression(random_state=42)),\n",
       "                             ('rf', RandomForestClassifier(random_state=42)),\n",
       "                             ('svc', SVC(random_state=42))])"
      ]
     },
     "execution_count": 5,
     "metadata": {},
     "output_type": "execute_result"
    }
   ],
   "source": [
    "voting_classifier.fit(X_train, y_train)"
   ]
  },
  {
   "cell_type": "markdown",
   "metadata": {},
   "source": [
    "We can check the accuracy of each individual classifer, as well as the ensemble voting classifier:"
   ]
  },
  {
   "cell_type": "code",
   "execution_count": 6,
   "metadata": {},
   "outputs": [
    {
     "name": "stdout",
     "output_type": "stream",
     "text": [
      "LogisticRegression 0.864\n",
      "RandomForestClassifier 0.896\n",
      "SVC 0.896\n",
      "VotingClassifier 0.912\n"
     ]
    }
   ],
   "source": [
    "from sklearn.metrics import accuracy_score\n",
    "\n",
    "for classifier in [log_classifier, forest_classifier, svm_classifier, voting_classifier]:\n",
    "    classifier.fit(X_train, y_train)\n",
    "    y_predictions = classifier.predict(X_test)\n",
    "    print(classifier.__class__.__name__ , accuracy_score(y_test, y_predictions))"
   ]
  },
  {
   "cell_type": "markdown",
   "metadata": {},
   "source": [
    "As expected, the ensemble voting classifier does indeed outperform each of the individual classifiers (although it is not really THAT much better than the SVM in this case)."
   ]
  },
  {
   "cell_type": "markdown",
   "metadata": {},
   "source": [
    "**Soft Voting**\n",
    "\n",
    "In an attempt to increase the ensemble accuracy even further, we can try an ensemble method called **soft voting**. Here, we proceed in a similar way - create various classifiers individually, and pass a new input instance to each to get their individual predictions.\n",
    "\n",
    "NOW: Instead of doing a majority vote (hard voting), we would instead compute the class probabilities for each individual classifier, take the average of the probability for each class over the individual classifiers, and make the prediction for the class with the highest average.\n",
    "\n",
    "In order to do this, each of the individual classifiers need to be equipped with the 'predict_proba()' method. As we know, the SVC does not come with this method by default, so for that particular classifier, we must get it to implement cross-validation by setting the hyperparameter 'probability' to \"True\". Although this will slow down training, you will be able to then compute class probabilities.\n",
    "\n",
    "Finally, to implement soft voting, we simply specify the hyperparameter 'voting' to \"soft\", in the VotingClassifier class instantiation."
   ]
  },
  {
   "cell_type": "code",
   "execution_count": 7,
   "metadata": {},
   "outputs": [],
   "source": [
    "log_classifier = LogisticRegression(random_state=42)\n",
    "forest_classifier = RandomForestClassifier(random_state=42)\n",
    "svm_classifier = SVC(random_state=42, probability=True)"
   ]
  },
  {
   "cell_type": "code",
   "execution_count": 8,
   "metadata": {},
   "outputs": [],
   "source": [
    "voting_classifier = VotingClassifier(\n",
    "    estimators = [(\"lr\", log_classifier), (\"rf\", forest_classifier), (\"svc\", svm_classifier)],\n",
    "    voting = \"soft\" # !!!!!\n",
    ")"
   ]
  },
  {
   "cell_type": "code",
   "execution_count": 9,
   "metadata": {},
   "outputs": [
    {
     "data": {
      "text/plain": [
       "VotingClassifier(estimators=[('lr', LogisticRegression(random_state=42)),\n",
       "                             ('rf', RandomForestClassifier(random_state=42)),\n",
       "                             ('svc', SVC(probability=True, random_state=42))],\n",
       "                 voting='soft')"
      ]
     },
     "execution_count": 9,
     "metadata": {},
     "output_type": "execute_result"
    }
   ],
   "source": [
    "voting_classifier.fit(X_train, y_train)"
   ]
  },
  {
   "cell_type": "markdown",
   "metadata": {},
   "source": [
    "The accuracy for soft voting is compute below:"
   ]
  },
  {
   "cell_type": "code",
   "execution_count": 10,
   "metadata": {},
   "outputs": [
    {
     "name": "stdout",
     "output_type": "stream",
     "text": [
      "LogisticRegression 0.864\n",
      "RandomForestClassifier 0.896\n",
      "SVC 0.896\n",
      "VotingClassifier 0.92\n"
     ]
    }
   ],
   "source": [
    "from sklearn.metrics import accuracy_score\n",
    "\n",
    "for classifier in [log_classifier, forest_classifier, svm_classifier, voting_classifier]:\n",
    "    classifier.fit(X_train, y_train)\n",
    "    y_predictions = classifier.predict(X_test)\n",
    "    print(classifier.__class__.__name__ , accuracy_score(y_test, y_predictions))"
   ]
  },
  {
   "cell_type": "markdown",
   "metadata": {},
   "source": [
    "We see that we get a slightly better accuracy for our ensemble classifier when using soft voting instead of hard voting."
   ]
  },
  {
   "cell_type": "markdown",
   "metadata": {},
   "source": [
    "## Bagging and Pasting in SKL"
   ]
  },
  {
   "cell_type": "markdown",
   "metadata": {},
   "source": [
    "To illustrate an implementation of bagging (exact same for pasting), we will use the same moons dataset above and train 500 decision tree classifiers, each of which will be trained on subsets of the training data of size 100."
   ]
  },
  {
   "cell_type": "code",
   "execution_count": 11,
   "metadata": {},
   "outputs": [],
   "source": [
    "from sklearn.ensemble import BaggingClassifier\n",
    "from sklearn.tree import DecisionTreeClassifier"
   ]
  },
  {
   "cell_type": "code",
   "execution_count": 12,
   "metadata": {},
   "outputs": [],
   "source": [
    "bag_classifier = BaggingClassifier(\n",
    "    base_estimator = DecisionTreeClassifier(),\n",
    "    n_estimators = 500, # Specify the number of (above) decision trees we want\n",
    "    max_samples = 100, # Specify the number of random training instances for each estimator\n",
    "    bootstrap = True, # Specify whether you want bagging (True) or pasting (False)\n",
    "    n_jobs = -1, # Specify the number of CPU cores to use (-1 means all)\n",
    "    random_state=42\n",
    ")"
   ]
  },
  {
   "cell_type": "code",
   "execution_count": 13,
   "metadata": {},
   "outputs": [
    {
     "data": {
      "text/plain": [
       "BaggingClassifier(base_estimator=DecisionTreeClassifier(), max_samples=100,\n",
       "                  n_estimators=500, n_jobs=-1, random_state=42)"
      ]
     },
     "execution_count": 13,
     "metadata": {},
     "output_type": "execute_result"
    }
   ],
   "source": [
    "bag_classifier.fit(X_train, y_train)"
   ]
  },
  {
   "cell_type": "markdown",
   "metadata": {},
   "source": [
    "We can compare the accuracy of this bagging ensemble with just using a single decision tree. We first make a single decision tree classifier, then compare the accuracy."
   ]
  },
  {
   "cell_type": "code",
   "execution_count": 14,
   "metadata": {},
   "outputs": [
    {
     "data": {
      "text/plain": [
       "DecisionTreeClassifier(random_state=42)"
      ]
     },
     "execution_count": 14,
     "metadata": {},
     "output_type": "execute_result"
    }
   ],
   "source": [
    "tree_classifier = DecisionTreeClassifier(random_state=42)\n",
    "tree_classifier.fit(X_train, y_train)"
   ]
  },
  {
   "cell_type": "code",
   "execution_count": 15,
   "metadata": {},
   "outputs": [],
   "source": [
    "tree_predictions = tree_classifier.predict(X_test)\n",
    "bagging_predictions = bag_classifier.predict(X_test)"
   ]
  },
  {
   "cell_type": "code",
   "execution_count": 16,
   "metadata": {},
   "outputs": [
    {
     "name": "stdout",
     "output_type": "stream",
     "text": [
      "Decision tree accuracy:  0.856\n",
      "Bagging accuracy:  0.904\n"
     ]
    }
   ],
   "source": [
    "print(\"Decision tree accuracy: \", accuracy_score(tree_predictions, y_test))\n",
    "print(\"Bagging accuracy: \", accuracy_score(bagging_predictions, y_test))"
   ]
  },
  {
   "cell_type": "markdown",
   "metadata": {},
   "source": [
    "As expected, the bagging ensemble performs better than just a single decision tree."
   ]
  },
  {
   "cell_type": "markdown",
   "metadata": {},
   "source": [
    "We can also visualize the decision boundaries of each and compare them:"
   ]
  },
  {
   "cell_type": "code",
   "execution_count": 17,
   "metadata": {},
   "outputs": [],
   "source": [
    "import numpy as np\n",
    "import matplotlib.pyplot as plt\n",
    "\n",
    "from matplotlib.colors import ListedColormap\n",
    "\n",
    "def plot_decision_boundary(clf, X, y, axes=[-1.5, 2.45, -1, 1.5], alpha=0.5, contour=True):\n",
    "    x1s = np.linspace(axes[0], axes[1], 100)\n",
    "    x2s = np.linspace(axes[2], axes[3], 100)\n",
    "    x1, x2 = np.meshgrid(x1s, x2s)\n",
    "    X_new = np.c_[x1.ravel(), x2.ravel()]\n",
    "    y_pred = clf.predict(X_new).reshape(x1.shape)\n",
    "    custom_cmap = ListedColormap(['#fafab0','#9898ff','#a0faa0'])\n",
    "    plt.contourf(x1, x2, y_pred, alpha=0.3, cmap=custom_cmap)\n",
    "    if contour:\n",
    "        custom_cmap2 = ListedColormap(['#7d7d58','#4c4c7f','#507d50'])\n",
    "        plt.contour(x1, x2, y_pred, cmap=custom_cmap2, alpha=0.8)\n",
    "    plt.plot(X[:, 0][y==0], X[:, 1][y==0], \"yo\", alpha=alpha)\n",
    "    plt.plot(X[:, 0][y==1], X[:, 1][y==1], \"bs\", alpha=alpha)\n",
    "    plt.axis(axes)\n",
    "    plt.xlabel(r\"$x_1$\", fontsize=18)\n",
    "    plt.ylabel(r\"$x_2$\", fontsize=18, rotation=0)"
   ]
  },
  {
   "cell_type": "code",
   "execution_count": 18,
   "metadata": {},
   "outputs": [
    {
     "data": {
      "text/plain": [
       "Text(0, 0.5, '')"
      ]
     },
     "execution_count": 18,
     "metadata": {},
     "output_type": "execute_result"
    },
    {
     "data": {
      "image/png": "[encoded data removed]",
      "text/plain": [
       "<Figure size 720x288 with 2 Axes>"
      ]
     },
     "metadata": {
      "needs_background": "light"
     },
     "output_type": "display_data"
    }
   ],
   "source": [
    "fix, axes = plt.subplots(ncols=2, figsize=(10,4), sharey=True)\n",
    "plt.sca(axes[0])\n",
    "plot_decision_boundary(tree_classifier, X, y)\n",
    "plt.title(\"Decision Tree\", fontsize=14)\n",
    "plt.sca(axes[1])\n",
    "plot_decision_boundary(bag_classifier, X, y)\n",
    "plt.title(\"Decision Trees with Bagging\", fontsize=14)\n",
    "plt.ylabel(\"\")"
   ]
  },
  {
   "cell_type": "markdown",
   "metadata": {},
   "source": [
    "### Out-of-Bag Evaluation"
   ]
  },
  {
   "cell_type": "markdown",
   "metadata": {},
   "source": [
    "We can easily specify SKL to use and compute oob evaluations for each predictor by simply specifying the 'oob_score' hyperparameter to \"True\" (in the 'BaggingClassifier' instantiation).\n",
    "\n",
    "The evaluation scores can then be extracted from the 'oob_score_' variable."
   ]
  },
  {
   "cell_type": "code",
   "execution_count": 19,
   "metadata": {},
   "outputs": [],
   "source": [
    "bag_classifier_oob = BaggingClassifier(\n",
    "    base_estimator = DecisionTreeClassifier(),\n",
    "    n_estimators = 500, # Specify the number of (above) decision trees we want\n",
    "    max_samples = 100, # Specify the number of random training instances for each estimator\n",
    "    bootstrap = True, # Specify whether you want bagging (True) or pasting (False)\n",
    "    n_jobs = -1, # Specify the number of CPU cores to use (-1 means all)\n",
    "    random_state=42,\n",
    "    oob_score = True\n",
    ")"
   ]
  },
  {
   "cell_type": "code",
   "execution_count": 20,
   "metadata": {},
   "outputs": [
    {
     "data": {
      "text/plain": [
       "BaggingClassifier(base_estimator=DecisionTreeClassifier(), max_samples=100,\n",
       "                  n_estimators=500, n_jobs=-1, oob_score=True, random_state=42)"
      ]
     },
     "execution_count": 20,
     "metadata": {},
     "output_type": "execute_result"
    }
   ],
   "source": [
    "bag_classifier_oob.fit(X_train, y_train)"
   ]
  },
  {
   "cell_type": "code",
   "execution_count": 21,
   "metadata": {},
   "outputs": [
    {
     "data": {
      "text/plain": [
       "0.9253333333333333"
      ]
     },
     "execution_count": 21,
     "metadata": {},
     "output_type": "execute_result"
    }
   ],
   "source": [
    "bag_classifier_oob.oob_score_"
   ]
  },
  {
   "cell_type": "markdown",
   "metadata": {},
   "source": [
    "As we can see, using oob evaluation, we get that this bagging ensemble will have about 92.53% accuracy with new data! *Recall: This is called the generalization error we are trying to estimate.*\n",
    "\n",
    "We can check this accuracy by using the test set:"
   ]
  },
  {
   "cell_type": "code",
   "execution_count": 22,
   "metadata": {},
   "outputs": [],
   "source": [
    "bag_oob_predictions = bag_classifier_oob.predict(X_test)"
   ]
  },
  {
   "cell_type": "code",
   "execution_count": 23,
   "metadata": {},
   "outputs": [
    {
     "data": {
      "text/plain": [
       "0.904"
      ]
     },
     "execution_count": 23,
     "metadata": {},
     "output_type": "execute_result"
    }
   ],
   "source": [
    "accuracy_score(bag_oob_predictions, y_test)"
   ]
  },
  {
   "cell_type": "markdown",
   "metadata": {},
   "source": [
    "We can also view the decision function generated through the training process using the 'oob_decision_function_' variable.\n",
    "\n",
    "If the base estimator is capable of computing class probabilities, then the decision function will return them."
   ]
  },
  {
   "cell_type": "code",
   "execution_count": 24,
   "metadata": {},
   "outputs": [
    {
     "data": {
      "text/plain": [
       "array([[0.35579515, 0.64420485],\n",
       "       [0.43513514, 0.56486486],\n",
       "       [1.        , 0.        ],\n",
       "       [0.01030928, 0.98969072],\n",
       "       [0.03174603, 0.96825397],\n",
       "       [0.07672634, 0.92327366],\n",
       "       [0.39189189, 0.60810811],\n",
       "       [0.06145251, 0.93854749],\n",
       "       [0.92689295, 0.07310705],\n",
       "       [0.88205128, 0.11794872],\n",
       "       [0.59850374, 0.40149626],\n",
       "       [0.04896907, 0.95103093],\n",
       "       [0.7565445 , 0.2434555 ],\n",
       "       [0.81377551, 0.18622449],\n",
       "       [0.88528678, 0.11471322],\n",
       "       [0.07407407, 0.92592593],\n",
       "       [0.04738155, 0.95261845],\n",
       "       [0.92051282, 0.07948718],\n",
       "       [0.69974555, 0.30025445],\n",
       "       [0.94358974, 0.05641026],\n",
       "       [0.06100796, 0.93899204],\n",
       "       [0.224     , 0.776     ],\n",
       "       [0.9125964 , 0.0874036 ],\n",
       "       [0.98746867, 0.01253133],\n",
       "       [0.95967742, 0.04032258],\n",
       "       [0.        , 1.        ],\n",
       "       [0.94255875, 0.05744125],\n",
       "       [1.        , 0.        ],\n",
       "       [0.03466667, 0.96533333],\n",
       "       [0.7020202 , 0.2979798 ],\n",
       "       [0.        , 1.        ],\n",
       "       [1.        , 0.        ],\n",
       "       [0.01262626, 0.98737374],\n",
       "       [0.07772021, 0.92227979],\n",
       "       [0.09350649, 0.90649351],\n",
       "       [0.97889182, 0.02110818],\n",
       "       [0.01827676, 0.98172324],\n",
       "       [0.53191489, 0.46808511],\n",
       "       [0.02122016, 0.97877984],\n",
       "       [0.98979592, 0.01020408],\n",
       "       [0.10242588, 0.89757412],\n",
       "       [0.33773087, 0.66226913],\n",
       "       [0.98684211, 0.01315789],\n",
       "       [0.98714653, 0.01285347],\n",
       "       [0.00755668, 0.99244332],\n",
       "       [1.        , 0.        ],\n",
       "       [1.        , 0.        ],\n",
       "       [0.05691057, 0.94308943],\n",
       "       [0.97727273, 0.02272727],\n",
       "       [0.05420054, 0.94579946],\n",
       "       [0.9443038 , 0.0556962 ],\n",
       "       [0.78740157, 0.21259843],\n",
       "       [0.92467532, 0.07532468],\n",
       "       [0.81794195, 0.18205805],\n",
       "       [0.01758794, 0.98241206],\n",
       "       [0.09511568, 0.90488432],\n",
       "       [0.78296703, 0.21703297],\n",
       "       [0.01897019, 0.98102981],\n",
       "       [0.01344086, 0.98655914],\n",
       "       [0.01492537, 0.98507463],\n",
       "       [0.82170543, 0.17829457],\n",
       "       [0.66666667, 0.33333333],\n",
       "       [0.71900826, 0.28099174],\n",
       "       [0.9921875 , 0.0078125 ],\n",
       "       [0.01049869, 0.98950131],\n",
       "       [0.7513369 , 0.2486631 ],\n",
       "       [0.97727273, 0.02272727],\n",
       "       [0.99230769, 0.00769231],\n",
       "       [0.60367454, 0.39632546],\n",
       "       [0.98461538, 0.01538462],\n",
       "       [0.35824742, 0.64175258],\n",
       "       [0.30666667, 0.69333333],\n",
       "       [0.41621622, 0.58378378],\n",
       "       [0.72922252, 0.27077748],\n",
       "       [0.        , 1.        ],\n",
       "       [0.25      , 0.75      ],\n",
       "       [0.9015544 , 0.0984456 ],\n",
       "       [1.        , 0.        ],\n",
       "       [0.0302267 , 0.9697733 ],\n",
       "       [0.95844156, 0.04155844],\n",
       "       [0.00512821, 0.99487179],\n",
       "       [0.18441558, 0.81558442],\n",
       "       [0.13554987, 0.86445013],\n",
       "       [0.40502793, 0.59497207],\n",
       "       [0.98704663, 0.01295337],\n",
       "       [0.04381443, 0.95618557],\n",
       "       [0.67307692, 0.32692308],\n",
       "       [0.07341772, 0.92658228],\n",
       "       [0.01578947, 0.98421053],\n",
       "       [0.        , 1.        ],\n",
       "       [0.38046272, 0.61953728],\n",
       "       [1.        , 0.        ],\n",
       "       [0.01754386, 0.98245614],\n",
       "       [0.05277045, 0.94722955],\n",
       "       [0.01028278, 0.98971722],\n",
       "       [0.80851064, 0.19148936],\n",
       "       [0.7115903 , 0.2884097 ],\n",
       "       [0.07407407, 0.92592593],\n",
       "       [1.        , 0.        ],\n",
       "       [0.34473684, 0.65526316],\n",
       "       [0.66402116, 0.33597884],\n",
       "       [0.01542416, 0.98457584],\n",
       "       [0.12266667, 0.87733333],\n",
       "       [0.42746114, 0.57253886],\n",
       "       [0.97142857, 0.02857143],\n",
       "       [0.03899721, 0.96100279],\n",
       "       [0.97493734, 0.02506266],\n",
       "       [0.44235925, 0.55764075],\n",
       "       [0.27968338, 0.72031662],\n",
       "       [0.9974026 , 0.0025974 ],\n",
       "       [0.24403183, 0.75596817],\n",
       "       [0.85233161, 0.14766839],\n",
       "       [0.26329114, 0.73670886],\n",
       "       [0.77653631, 0.22346369],\n",
       "       [0.9893617 , 0.0106383 ],\n",
       "       [0.98663102, 0.01336898],\n",
       "       [0.        , 1.        ],\n",
       "       [0.        , 1.        ],\n",
       "       [0.48849105, 0.51150895],\n",
       "       [0.99162011, 0.00837989],\n",
       "       [0.06793478, 0.93206522],\n",
       "       [0.9895288 , 0.0104712 ],\n",
       "       [0.97704082, 0.02295918],\n",
       "       [1.        , 0.        ],\n",
       "       [0.95561358, 0.04438642],\n",
       "       [0.97777778, 0.02222222],\n",
       "       [0.03580563, 0.96419437],\n",
       "       [0.95760599, 0.04239401],\n",
       "       [0.96508728, 0.03491272],\n",
       "       [0.02887139, 0.97112861],\n",
       "       [0.23306233, 0.76693767],\n",
       "       [0.85529716, 0.14470284],\n",
       "       [0.4015544 , 0.5984456 ],\n",
       "       [0.91948052, 0.08051948],\n",
       "       [0.002457  , 0.997543  ],\n",
       "       [0.0265252 , 0.9734748 ],\n",
       "       [0.82849604, 0.17150396],\n",
       "       [0.76863753, 0.23136247],\n",
       "       [0.5390625 , 0.4609375 ],\n",
       "       [0.88664987, 0.11335013],\n",
       "       [0.93814433, 0.06185567],\n",
       "       [0.1171875 , 0.8828125 ],\n",
       "       [0.76923077, 0.23076923],\n",
       "       [0.08136483, 0.91863517],\n",
       "       [0.01282051, 0.98717949],\n",
       "       [0.1227154 , 0.8772846 ],\n",
       "       [0.73969072, 0.26030928],\n",
       "       [0.96946565, 0.03053435],\n",
       "       [1.        , 0.        ],\n",
       "       [0.03403141, 0.96596859],\n",
       "       [0.00265957, 0.99734043],\n",
       "       [0.0620155 , 0.9379845 ],\n",
       "       [0.02325581, 0.97674419],\n",
       "       [0.9924812 , 0.0075188 ],\n",
       "       [0.98373984, 0.01626016],\n",
       "       [0.86449864, 0.13550136],\n",
       "       [0.99730458, 0.00269542],\n",
       "       [1.        , 0.        ],\n",
       "       [0.87598945, 0.12401055],\n",
       "       [0.00775194, 0.99224806],\n",
       "       [0.64925373, 0.35074627],\n",
       "       [0.32994924, 0.67005076],\n",
       "       [0.07336957, 0.92663043],\n",
       "       [0.01534527, 0.98465473],\n",
       "       [0.38961039, 0.61038961],\n",
       "       [1.        , 0.        ],\n",
       "       [0.97554348, 0.02445652],\n",
       "       [0.        , 1.        ],\n",
       "       [1.        , 0.        ],\n",
       "       [0.07027027, 0.92972973],\n",
       "       [0.00520833, 0.99479167],\n",
       "       [0.92553191, 0.07446809],\n",
       "       [0.02077922, 0.97922078],\n",
       "       [0.        , 1.        ],\n",
       "       [1.        , 0.        ],\n",
       "       [0.04347826, 0.95652174],\n",
       "       [0.82994924, 0.17005076],\n",
       "       [0.90526316, 0.09473684],\n",
       "       [0.033241  , 0.966759  ],\n",
       "       [0.94559585, 0.05440415],\n",
       "       [0.90185676, 0.09814324],\n",
       "       [0.9611399 , 0.0388601 ],\n",
       "       [0.01312336, 0.98687664],\n",
       "       [0.01856764, 0.98143236],\n",
       "       [0.99212598, 0.00787402],\n",
       "       [0.24427481, 0.75572519],\n",
       "       [0.98958333, 0.01041667],\n",
       "       [0.12634409, 0.87365591],\n",
       "       [0.01808786, 0.98191214],\n",
       "       [0.98969072, 0.01030928],\n",
       "       [0.        , 1.        ],\n",
       "       [0.19945355, 0.80054645],\n",
       "       [0.88713911, 0.11286089],\n",
       "       [0.90600522, 0.09399478],\n",
       "       [0.61741425, 0.38258575],\n",
       "       [0.67733333, 0.32266667],\n",
       "       [0.03826531, 0.96173469],\n",
       "       [0.2421875 , 0.7578125 ],\n",
       "       [0.98933333, 0.01066667],\n",
       "       [0.92875989, 0.07124011],\n",
       "       [0.9171123 , 0.0828877 ],\n",
       "       [0.98387097, 0.01612903],\n",
       "       [0.04232804, 0.95767196],\n",
       "       [0.01041667, 0.98958333],\n",
       "       [0.09974425, 0.90025575],\n",
       "       [0.5127551 , 0.4872449 ],\n",
       "       [0.        , 1.        ],\n",
       "       [0.02046036, 0.97953964],\n",
       "       [0.97474747, 0.02525253],\n",
       "       [0.08918919, 0.91081081],\n",
       "       [0.12144703, 0.87855297],\n",
       "       [0.88549618, 0.11450382],\n",
       "       [0.04557641, 0.95442359],\n",
       "       [0.37073171, 0.62926829],\n",
       "       [0.01355014, 0.98644986],\n",
       "       [1.        , 0.        ],\n",
       "       [0.01302083, 0.98697917],\n",
       "       [0.01369863, 0.98630137],\n",
       "       [0.91052632, 0.08947368],\n",
       "       [0.9012987 , 0.0987013 ],\n",
       "       [0.95897436, 0.04102564],\n",
       "       [0.0188172 , 0.9811828 ],\n",
       "       [0.05670103, 0.94329897],\n",
       "       [0.96524064, 0.03475936],\n",
       "       [0.11671088, 0.88328912],\n",
       "       [0.        , 1.        ],\n",
       "       [0.22955145, 0.77044855],\n",
       "       [0.97333333, 0.02666667],\n",
       "       [0.84594595, 0.15405405],\n",
       "       [0.11948052, 0.88051948],\n",
       "       [0.71621622, 0.28378378],\n",
       "       [0.92838875, 0.07161125],\n",
       "       [0.15860215, 0.84139785],\n",
       "       [0.13953488, 0.86046512],\n",
       "       [0.98982188, 0.01017812],\n",
       "       [0.        , 1.        ],\n",
       "       [0.01358696, 0.98641304],\n",
       "       [0.01315789, 0.98684211],\n",
       "       [0.38324873, 0.61675127],\n",
       "       [0.85263158, 0.14736842],\n",
       "       [0.04113111, 0.95886889],\n",
       "       [0.9893617 , 0.0106383 ],\n",
       "       [0.85236769, 0.14763231],\n",
       "       [0.0025641 , 0.9974359 ],\n",
       "       [0.76363636, 0.23636364],\n",
       "       [0.98737374, 0.01262626],\n",
       "       [0.00527704, 0.99472296],\n",
       "       [0.98971722, 0.01028278],\n",
       "       [0.06182796, 0.93817204],\n",
       "       [0.01044386, 0.98955614],\n",
       "       [0.11653117, 0.88346883],\n",
       "       [0.24274406, 0.75725594],\n",
       "       [0.8956743 , 0.1043257 ],\n",
       "       [0.06169666, 0.93830334],\n",
       "       [0.98694517, 0.01305483],\n",
       "       [0.59850374, 0.40149626],\n",
       "       [0.08080808, 0.91919192],\n",
       "       [0.616     , 0.384     ],\n",
       "       [0.88688946, 0.11311054],\n",
       "       [0.00787402, 0.99212598],\n",
       "       [0.99492386, 0.00507614],\n",
       "       [0.01041667, 0.98958333],\n",
       "       [0.        , 1.        ],\n",
       "       [0.77114428, 0.22885572],\n",
       "       [0.        , 1.        ],\n",
       "       [0.98918919, 0.01081081],\n",
       "       [0.10649351, 0.89350649],\n",
       "       [0.73846154, 0.26153846],\n",
       "       [0.13513514, 0.86486486],\n",
       "       [0.9972973 , 0.0027027 ],\n",
       "       [0.90104167, 0.09895833],\n",
       "       [0.01285347, 0.98714653],\n",
       "       [0.05540897, 0.94459103],\n",
       "       [0.13350785, 0.86649215],\n",
       "       [0.08695652, 0.91304348],\n",
       "       [0.        , 1.        ],\n",
       "       [0.96899225, 0.03100775],\n",
       "       [0.84615385, 0.15384615],\n",
       "       [0.15013405, 0.84986595],\n",
       "       [0.93384224, 0.06615776],\n",
       "       [0.04221636, 0.95778364],\n",
       "       [0.61265823, 0.38734177],\n",
       "       [0.13917526, 0.86082474],\n",
       "       [0.95064935, 0.04935065],\n",
       "       [0.90027701, 0.09972299],\n",
       "       [0.00789474, 0.99210526],\n",
       "       [0.94041451, 0.05958549],\n",
       "       [0.8987013 , 0.1012987 ],\n",
       "       [0.        , 1.        ],\n",
       "       [0.05053191, 0.94946809],\n",
       "       [1.        , 0.        ],\n",
       "       [0.03183024, 0.96816976],\n",
       "       [0.98963731, 0.01036269],\n",
       "       [0.09189189, 0.90810811],\n",
       "       [0.88235294, 0.11764706],\n",
       "       [1.        , 0.        ],\n",
       "       [0.01066667, 0.98933333],\n",
       "       [0.0458221 , 0.9541779 ],\n",
       "       [0.688     , 0.312     ],\n",
       "       [0.        , 1.        ],\n",
       "       [1.        , 0.        ],\n",
       "       [0.67435897, 0.32564103],\n",
       "       [0.86956522, 0.13043478],\n",
       "       [0.99230769, 0.00769231],\n",
       "       [0.66753927, 0.33246073],\n",
       "       [0.47733333, 0.52266667],\n",
       "       [0.01362398, 0.98637602],\n",
       "       [0.82531646, 0.17468354],\n",
       "       [0.01591512, 0.98408488],\n",
       "       [1.        , 0.        ],\n",
       "       [0.77513228, 0.22486772],\n",
       "       [0.9871134 , 0.0128866 ],\n",
       "       [1.        , 0.        ],\n",
       "       [0.84771574, 0.15228426],\n",
       "       [0.27720207, 0.72279793],\n",
       "       [0.1689008 , 0.8310992 ],\n",
       "       [0.2382199 , 0.7617801 ],\n",
       "       [0.        , 1.        ],\n",
       "       [0.75065617, 0.24934383],\n",
       "       [0.90649351, 0.09350649],\n",
       "       [0.05882353, 0.94117647],\n",
       "       [1.        , 0.        ],\n",
       "       [0.97837838, 0.02162162],\n",
       "       [0.98992443, 0.01007557],\n",
       "       [0.00507614, 0.99492386],\n",
       "       [0.06887755, 0.93112245],\n",
       "       [0.91282051, 0.08717949],\n",
       "       [0.93782383, 0.06217617],\n",
       "       [1.        , 0.        ],\n",
       "       [0.24129353, 0.75870647],\n",
       "       [0.98933333, 0.01066667],\n",
       "       [0.13      , 0.87      ],\n",
       "       [0.95103093, 0.04896907],\n",
       "       [0.04522613, 0.95477387],\n",
       "       [0.98777506, 0.01222494],\n",
       "       [0.99479167, 0.00520833],\n",
       "       [0.98271605, 0.01728395],\n",
       "       [0.        , 1.        ],\n",
       "       [0.93882979, 0.06117021],\n",
       "       [0.01591512, 0.98408488],\n",
       "       [0.06958763, 0.93041237],\n",
       "       [0.05637255, 0.94362745],\n",
       "       [0.        , 1.        ],\n",
       "       [1.        , 0.        ],\n",
       "       [0.98913043, 0.01086957],\n",
       "       [0.        , 1.        ],\n",
       "       [0.96524064, 0.03475936],\n",
       "       [0.0802139 , 0.9197861 ],\n",
       "       [0.9872449 , 0.0127551 ],\n",
       "       [0.1875    , 0.8125    ],\n",
       "       [0.0156658 , 0.9843342 ],\n",
       "       [0.04569892, 0.95430108],\n",
       "       [0.        , 1.        ],\n",
       "       [0.81693989, 0.18306011],\n",
       "       [0.07518797, 0.92481203],\n",
       "       [0.1292876 , 0.8707124 ],\n",
       "       [1.        , 0.        ],\n",
       "       [0.92708333, 0.07291667],\n",
       "       [0.22751323, 0.77248677],\n",
       "       [0.93939394, 0.06060606],\n",
       "       [0.0536193 , 0.9463807 ],\n",
       "       [0.12834225, 0.87165775],\n",
       "       [1.        , 0.        ],\n",
       "       [0.92183288, 0.07816712],\n",
       "       [0.61170213, 0.38829787],\n",
       "       [0.86863271, 0.13136729],\n",
       "       [1.        , 0.        ],\n",
       "       [0.02150538, 0.97849462],\n",
       "       [0.94666667, 0.05333333],\n",
       "       [0.0298103 , 0.9701897 ],\n",
       "       [0.13874346, 0.86125654],\n",
       "       [0.91435768, 0.08564232],\n",
       "       [1.        , 0.        ],\n",
       "       [0.0859375 , 0.9140625 ],\n",
       "       [0.69086022, 0.30913978]])"
      ]
     },
     "execution_count": 24,
     "metadata": {},
     "output_type": "execute_result"
    }
   ],
   "source": [
    "bag_classifier_oob.oob_decision_function_"
   ]
  },
  {
   "cell_type": "markdown",
   "metadata": {},
   "source": [
    "## Random Forests"
   ]
  },
  {
   "cell_type": "code",
   "execution_count": 25,
   "metadata": {},
   "outputs": [
    {
     "data": {
      "text/plain": [
       "RandomForestClassifier(max_leaf_nodes=16, n_estimators=500, n_jobs=-1)"
      ]
     },
     "execution_count": 25,
     "metadata": {},
     "output_type": "execute_result"
    }
   ],
   "source": [
    "from sklearn.ensemble import RandomForestClassifier\n",
    "\n",
    "forest_classifier = RandomForestClassifier(n_estimators = 500,\n",
    "                                            max_leaf_nodes = 16,\n",
    "                                            n_jobs = -1)\n",
    "\n",
    "forest_classifier.fit(X_train, y_train)"
   ]
  },
  {
   "cell_type": "code",
   "execution_count": 26,
   "metadata": {},
   "outputs": [],
   "source": [
    "forest_predictions = forest_classifier.predict(X_test)"
   ]
  },
  {
   "cell_type": "code",
   "execution_count": 27,
   "metadata": {},
   "outputs": [
    {
     "data": {
      "text/plain": [
       "0.976"
      ]
     },
     "execution_count": 27,
     "metadata": {},
     "output_type": "execute_result"
    }
   ],
   "source": [
    "np.sum(bagging_predictions == forest_predictions) / len(bagging_predictions)"
   ]
  },
  {
   "cell_type": "markdown",
   "metadata": {},
   "source": [
    "We see that using the 'RandomForestClassifier' yields approximately the exact same predictions as using the 'BaggingClassifier' with decision trees."
   ]
  },
  {
   "cell_type": "markdown",
   "metadata": {},
   "source": [
    "**Feature Importance**"
   ]
  },
  {
   "cell_type": "code",
   "execution_count": 28,
   "metadata": {},
   "outputs": [
    {
     "data": {
      "text/plain": [
       "RandomForestClassifier(n_estimators=500, n_jobs=-1)"
      ]
     },
     "execution_count": 28,
     "metadata": {},
     "output_type": "execute_result"
    }
   ],
   "source": [
    "from sklearn.datasets import load_iris\n",
    "\n",
    "iris = load_iris()\n",
    "\n",
    "forest_classifier_iris = RandomForestClassifier(n_estimators=500, n_jobs=-1)\n",
    "forest_classifier_iris.fit(iris[\"data\"], iris[\"target\"])"
   ]
  },
  {
   "cell_type": "code",
   "execution_count": 29,
   "metadata": {},
   "outputs": [
    {
     "name": "stdout",
     "output_type": "stream",
     "text": [
      "sepal length (cm) 0.08458799382372739\n",
      "sepal width (cm) 0.02127915401052426\n",
      "petal length (cm) 0.44989546991137824\n",
      "petal width (cm) 0.44423738225437015\n"
     ]
    }
   ],
   "source": [
    "for name, score in zip(iris[\"feature_names\"], forest_classifier_iris.feature_importances_):\n",
    "    print(name, score)"
   ]
  },
  {
   "cell_type": "markdown",
   "metadata": {},
   "source": [
    "## Boosting"
   ]
  },
  {
   "cell_type": "markdown",
   "metadata": {},
   "source": [
    "**AdaBoost**"
   ]
  },
  {
   "cell_type": "code",
   "execution_count": 30,
   "metadata": {},
   "outputs": [],
   "source": [
    "from sklearn.ensemble import AdaBoostClassifier\n",
    "\n",
    "ada_boost_classifier = AdaBoostClassifier(base_estimator= DecisionTreeClassifier(max_depth=1),\n",
    "                                         n_estimators=200,\n",
    "                                         algorithm=\"SAMME.R\",\n",
    "                                         learning_rate=0.5)\n",
    "\n",
    "#### NOTE: A decision tree with a height of one is called a \"decision stump\"!"
   ]
  },
  {
   "cell_type": "code",
   "execution_count": 31,
   "metadata": {},
   "outputs": [
    {
     "data": {
      "text/plain": [
       "AdaBoostClassifier(base_estimator=DecisionTreeClassifier(max_depth=1),\n",
       "                   learning_rate=0.5, n_estimators=200)"
      ]
     },
     "execution_count": 31,
     "metadata": {},
     "output_type": "execute_result"
    }
   ],
   "source": [
    "ada_boost_classifier.fit(X_train, y_train)"
   ]
  },
  {
   "cell_type": "code",
   "execution_count": 32,
   "metadata": {},
   "outputs": [],
   "source": [
    "ada_boost_predictions = ada_boost_classifier.predict(X_test)"
   ]
  },
  {
   "cell_type": "code",
   "execution_count": 33,
   "metadata": {},
   "outputs": [
    {
     "name": "stdout",
     "output_type": "stream",
     "text": [
      "0.896\n"
     ]
    }
   ],
   "source": [
    "print(accuracy_score(ada_boost_predictions, y_test))"
   ]
  },
  {
   "cell_type": "code",
   "execution_count": 34,
   "metadata": {},
   "outputs": [
    {
     "data": {
      "image/png": "[encoded data removed]",
      "text/plain": [
       "<Figure size 432x288 with 1 Axes>"
      ]
     },
     "metadata": {
      "needs_background": "light"
     },
     "output_type": "display_data"
    }
   ],
   "source": [
    "plot_decision_boundary(ada_boost_classifier, X, y)"
   ]
  },
  {
   "cell_type": "markdown",
   "metadata": {},
   "source": [
    "**Gradient Boosting**"
   ]
  },
  {
   "cell_type": "code",
   "execution_count": 41,
   "metadata": {},
   "outputs": [],
   "source": [
    "np.random.seed(42)\n",
    "\n",
    "X = np.random.rand(100, 1) - 0.5\n",
    "y = 3*X[:, 0]**2 + 0.05 * np.random.randn(100)"
   ]
  },
  {
   "cell_type": "code",
   "execution_count": 42,
   "metadata": {},
   "outputs": [],
   "source": [
    "from sklearn.tree import DecisionTreeRegressor"
   ]
  },
  {
   "cell_type": "code",
   "execution_count": 43,
   "metadata": {},
   "outputs": [
    {
     "data": {
      "text/plain": [
       "DecisionTreeRegressor(max_depth=2)"
      ]
     },
     "execution_count": 43,
     "metadata": {},
     "output_type": "execute_result"
    }
   ],
   "source": [
    "tree_regressor_1 = DecisionTreeRegressor(max_depth=2)\n",
    "tree_regressor_1.fit(X, y)"
   ]
  },
  {
   "cell_type": "code",
   "execution_count": 44,
   "metadata": {},
   "outputs": [
    {
     "data": {
      "text/plain": [
       "DecisionTreeRegressor(max_depth=2)"
      ]
     },
     "execution_count": 44,
     "metadata": {},
     "output_type": "execute_result"
    }
   ],
   "source": [
    "y2 = y - tree_regressor_1.predict(X) # These are the *residual errors* of the FIRST tree!\n",
    "\n",
    "tree_regressor_2 = DecisionTreeRegressor(max_depth=2)\n",
    "tree_regressor_2.fit(X, y2) # Fitting to the residual errors y2"
   ]
  },
  {
   "cell_type": "code",
   "execution_count": 45,
   "metadata": {},
   "outputs": [
    {
     "data": {
      "text/plain": [
       "DecisionTreeRegressor(max_depth=2)"
      ]
     },
     "execution_count": 45,
     "metadata": {},
     "output_type": "execute_result"
    }
   ],
   "source": [
    "y3 = y2 - tree_regressor_2.predict(X) # These are the *residual errors* of the SECOND tree!\n",
    "\n",
    "tree_regressor_3 = DecisionTreeRegressor(max_depth=2)\n",
    "tree_regressor_3.fit(X, y3) # Fitting to the residual errors y3"
   ]
  },
  {
   "cell_type": "markdown",
   "metadata": {},
   "source": [
    "We now have our ensemble consisting of three decision tree regressors. To make predictions, we simply sum the predictions of each individual predictor:"
   ]
  },
  {
   "cell_type": "code",
   "execution_count": 48,
   "metadata": {},
   "outputs": [
    {
     "data": {
      "text/plain": [
       "array([0.75026781])"
      ]
     },
     "execution_count": 48,
     "metadata": {},
     "output_type": "execute_result"
    }
   ],
   "source": [
    "X_new = np.array([[0.8]])\n",
    "\n",
    "grad_boost_predictions = sum(tree.predict(X_new) for tree in [tree_regressor_1, tree_regressor_2, tree_regressor_3])\n",
    "grad_boost_predictions"
   ]
  },
  {
   "cell_type": "markdown",
   "metadata": {},
   "source": [
    "We implemented gradient boosting from scratch, but we could have also used SKL's 'GradientBoostingRegressor' class as well:"
   ]
  },
  {
   "cell_type": "code",
   "execution_count": 49,
   "metadata": {},
   "outputs": [
    {
     "data": {
      "text/plain": [
       "GradientBoostingRegressor(learning_rate=1.0, max_depth=2, n_estimators=3)"
      ]
     },
     "execution_count": 49,
     "metadata": {},
     "output_type": "execute_result"
    }
   ],
   "source": [
    "from sklearn.ensemble import GradientBoostingRegressor\n",
    "\n",
    "gbrt = GradientBoostingRegressor(max_depth=2, n_estimators=3, learning_rate=1.0)\n",
    "gbrt.fit(X, y)"
   ]
  },
  {
   "cell_type": "code",
   "execution_count": 50,
   "metadata": {},
   "outputs": [
    {
     "data": {
      "text/plain": [
       "array([0.75026781])"
      ]
     },
     "execution_count": 50,
     "metadata": {},
     "output_type": "execute_result"
    }
   ],
   "source": [
    "gbrt.predict(X_new)"
   ]
  },
  {
   "cell_type": "markdown",
   "metadata": {},
   "source": [
    "**Early Stopping Implementation**"
   ]
  },
  {
   "cell_type": "markdown",
   "metadata": {},
   "source": [
    "In order to determine the appropriate number of trees we should use, we can implement early stopping in the GBRT code above. Then we can investigate what number of trees minimizes the validation error. We use the method 'staged_predict()', as shown below."
   ]
  },
  {
   "cell_type": "code",
   "execution_count": 63,
   "metadata": {},
   "outputs": [],
   "source": [
    "from sklearn.model_selection import train_test_split\n",
    "from sklearn.metrics import mean_squared_error\n",
    "\n",
    "X_train, X_val, y_train, y_val = train_test_split(X, y)"
   ]
  },
  {
   "cell_type": "code",
   "execution_count": 64,
   "metadata": {},
   "outputs": [
    {
     "data": {
      "text/plain": [
       "GradientBoostingRegressor(max_depth=2, n_estimators=120, random_state=42)"
      ]
     },
     "execution_count": 64,
     "metadata": {},
     "output_type": "execute_result"
    }
   ],
   "source": [
    "gbrt = GradientBoostingRegressor(max_depth=2, n_estimators=120, random_state=42)\n",
    "gbrt.fit(X_train, y_train)"
   ]
  },
  {
   "cell_type": "code",
   "execution_count": 65,
   "metadata": {},
   "outputs": [],
   "source": [
    "# We now determine the minimum validation error and the associated number of trees\n",
    "\n",
    "errors = [mean_squared_error(y_val, y_pred)\n",
    "             for y_pred in gbrt.staged_predict(X_val)]\n",
    "\n",
    "best_num_trees = np.argmin(errors)+1\n",
    "min_error = errors[best_num_trees]"
   ]
  },
  {
   "cell_type": "code",
   "execution_count": 66,
   "metadata": {},
   "outputs": [
    {
     "name": "stdout",
     "output_type": "stream",
     "text": [
      "Minimum validation error:  0.002730216353395411\n",
      "Optimal number of trees:  110\n"
     ]
    }
   ],
   "source": [
    "print(\"Minimum validation error: \", min_error)\n",
    "print(\"Optimal number of trees: \", best_num_trees)"
   ]
  },
  {
   "cell_type": "markdown",
   "metadata": {},
   "source": [
    "Now, we can train a new GBRT ensemble with this optimum number of trees:"
   ]
  },
  {
   "cell_type": "code",
   "execution_count": 67,
   "metadata": {},
   "outputs": [
    {
     "data": {
      "text/plain": [
       "GradientBoostingRegressor(max_depth=2, n_estimators=110, random_state=42)"
      ]
     },
     "execution_count": 67,
     "metadata": {},
     "output_type": "execute_result"
    }
   ],
   "source": [
    "gbrt = GradientBoostingRegressor(max_depth=2, n_estimators=best_num_trees, random_state=42)\n",
    "gbrt.fit(X_train, y_train)"
   ]
  },
  {
   "cell_type": "code",
   "execution_count": 70,
   "metadata": {},
   "outputs": [
    {
     "data": {
      "text/plain": [
       "array([0.7389862])"
      ]
     },
     "execution_count": 70,
     "metadata": {},
     "output_type": "execute_result"
    }
   ],
   "source": [
    "gbrt.predict(X_new)"
   ]
  },
  {
   "cell_type": "code",
   "execution_count": 71,
   "metadata": {},
   "outputs": [],
   "source": [
    "def plot_predictions(regressors, X, y, axes, label=None, style=\"r-\", data_style=\"b.\", data_label=None):\n",
    "    x1 = np.linspace(axes[0], axes[1], 500)\n",
    "    y_pred = sum(regressor.predict(x1.reshape(-1, 1)) for regressor in regressors)\n",
    "    plt.plot(X[:, 0], y, data_style, label=data_label)\n",
    "    plt.plot(x1, y_pred, style, linewidth=2, label=label)\n",
    "    if label or data_label:\n",
    "        plt.legend(loc=\"upper center\", fontsize=16)\n",
    "    plt.axis(axes)"
   ]
  },
  {
   "cell_type": "code",
   "execution_count": 72,
   "metadata": {},
   "outputs": [
    {
     "data": {
      "text/plain": [
       "Text(0.5, 0, '$x_1$')"
      ]
     },
     "execution_count": 72,
     "metadata": {},
     "output_type": "execute_result"
    },
    {
     "data": {
      "image/png": "[encoded data removed]",
      "text/plain": [
       "<Figure size 720x288 with 2 Axes>"
      ]
     },
     "metadata": {
      "needs_background": "light"
     },
     "output_type": "display_data"
    }
   ],
   "source": [
    "plt.figure(figsize=(10, 4))\n",
    "\n",
    "plt.subplot(121)\n",
    "plt.plot(errors, \"b.-\")\n",
    "plt.plot([best_num_trees, best_num_trees], [0, min_error], \"k--\")\n",
    "plt.plot([0, 120], [min_error, min_error], \"k--\")\n",
    "plt.plot(best_num_trees, min_error, \"ko\")\n",
    "plt.text(best_num_trees, min_error*1.2, \"Minimum\", ha=\"center\", fontsize=14)\n",
    "plt.axis([0, 120, 0, 0.01])\n",
    "plt.xlabel(\"Number of trees\")\n",
    "plt.ylabel(\"Error\", fontsize=16)\n",
    "plt.title(\"Validation error\", fontsize=14)\n",
    "\n",
    "plt.subplot(122)\n",
    "plot_predictions([gbrt], X, y, axes=[-0.5, 0.5, -0.1, 0.8])\n",
    "plt.title(\"Best model (%d trees)\" % best_num_trees, fontsize=14)\n",
    "plt.ylabel(\"$y$\", fontsize=16, rotation=0)\n",
    "plt.xlabel(\"$x_1$\", fontsize=16)"
   ]
  },
  {
   "cell_type": "markdown",
   "metadata": {},
   "source": [
    "In the above method, we had to train **TWO** different GBRT ensembles. This is because we needed the first one to finish in its entirety so that we could look into the validation errors.\n",
    "\n",
    "It's also possible to **truly** implement early stopping, in the sense that we stop training once we reach a minimum validation error. This second technique is shown below. Notice we specify 'warm_start' to be \"True\":"
   ]
  },
  {
   "cell_type": "code",
   "execution_count": 61,
   "metadata": {},
   "outputs": [],
   "source": [
    "gbrt = GradientBoostingRegressor(max_depth=2, warm_start=True)"
   ]
  },
  {
   "cell_type": "code",
   "execution_count": 73,
   "metadata": {},
   "outputs": [],
   "source": [
    "min_val_error = float(\"inf\")\n",
    "error_going_up = 0\n",
    "\n",
    "for num_predictors in range(1,120):\n",
    "    gbrt.n_estimators = num_predictors\n",
    "    gbrt.fit(X_train, y_train)\n",
    "    \n",
    "    y_pred = gbrt.predict(X_val)\n",
    "    val_error = mean_squared_error(y_val, y_pred)\n",
    "    \n",
    "    if val_error < min_val_error:\n",
    "        min_val_error = val_error\n",
    "        error_going_up = 0\n",
    "    else:\n",
    "        error_going_up += 1\n",
    "        if error_going_up == 5:  #### When valiadation error does not improve for 5 consecutive iterations\n",
    "            break                #### Breaking here for early stopping!\n",
    "            "
   ]
  },
  {
   "cell_type": "code",
   "execution_count": 76,
   "metadata": {},
   "outputs": [
    {
     "name": "stdout",
     "output_type": "stream",
     "text": [
      "Minimum validation error:  0.0028209980081892543\n",
      "Optimal number of trees:  72\n"
     ]
    }
   ],
   "source": [
    "print(\"Minimum validation error: \", min_val_error)\n",
    "print(\"Optimal number of trees: \", num_predictors)"
   ]
  },
  {
   "cell_type": "markdown",
   "metadata": {},
   "source": [
    "## XGBoost - A Quick Note"
   ]
  },
  {
   "cell_type": "markdown",
   "metadata": {},
   "source": [
    "***I could not get XGBoost to install properly, try harder next time!***"
   ]
  },
  {
   "cell_type": "code",
   "execution_count": 77,
   "metadata": {},
   "outputs": [
    {
     "ename": "ModuleNotFoundError",
     "evalue": "No module named 'xgboost'",
     "output_type": "error",
     "traceback": [
      "\u001b[1;31m---------------------------------------------------------------------------\u001b[0m",
      "\u001b[1;31mModuleNotFoundError\u001b[0m                       Traceback (most recent call last)",
      "\u001b[1;32m<ipython-input-77-e528dc1a32ff>\u001b[0m in \u001b[0;36m<module>\u001b[1;34m\u001b[0m\n\u001b[1;32m----> 1\u001b[1;33m \u001b[1;32mimport\u001b[0m \u001b[0mxgboost\u001b[0m\u001b[1;33m\u001b[0m\u001b[1;33m\u001b[0m\u001b[0m\n\u001b[0m",
      "\u001b[1;31mModuleNotFoundError\u001b[0m: No module named 'xgboost'"
     ]
    }
   ],
   "source": [
    "import xgboost"
   ]
  },
  {
   "cell_type": "code",
   "execution_count": null,
   "metadata": {},
   "outputs": [],
   "source": []
  }
 ],
 "metadata": {
  "kernelspec": {
   "display_name": "Python 3",
   "language": "python",
   "name": "python3"
  },
  "language_info": {
   "codemirror_mode": {
    "name": "ipython",
    "version": 3
   },
   "file_extension": ".py",
   "mimetype": "text/x-python",
   "name": "python",
   "nbconvert_exporter": "python",
   "pygments_lexer": "ipython3",
   "version": "3.8.3"
  }
 },
 "nbformat": 4,
 "nbformat_minor": 4
}
